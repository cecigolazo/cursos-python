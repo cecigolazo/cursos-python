{
  "cells": [
    {
      "cell_type": "markdown",
      "metadata": {
        "id": "view-in-github",
        "colab_type": "text"
      },
      "source": [
        "<a href=\"https://colab.research.google.com/github/cecigolazo/cursos-python/blob/master/Trabajo_final_2023.ipynb\" target=\"_parent\"><img src=\"https://colab.research.google.com/assets/colab-badge.svg\" alt=\"Open In Colab\"/></a>"
      ]
    },
    {
      "cell_type": "markdown",
      "metadata": {
        "id": "3C8jufPFT23v"
      },
      "source": [
        "# **Pobreza en Argentina**\n",
        "\n",
        "En este trabajo se analiza la pobreza en Argentina de acuerdo a los datos de la Encuesta Permanente de Hogares (EPH). Las bases de datos que se toman en este caso son las del último trimestre del año 2022 (últimas disponibles).\n",
        "\n",
        "De acuerdo a los ingresos de cada hogar y los datos de la canasta básica que proporciona INDEC se puede estimar el porcentaje de pobreza en Argentina.\n",
        "\n",
        "Para calcular el ingreso del hogar se estima primero el porcentaje correspondiente al adulto equivalente en cada uno de ellos, ya que un hogar puede estar compuesto por 8 miembros y otro por solo dos, a modo e ejemplo.\n",
        "\n",
        "En este caso, la línea de pobreza para un adulto equivalente fue de $49.358.\n",
        "\n",
        "Las fuentes de los bases de datos son:\n",
        "\n",
        "\n",
        "**Bases de datos**\n",
        "\n",
        "https://www.indec.gob.ar/indec/web/Institucional-Indec-BasesDeDatos\n",
        "\n",
        "\n",
        "**Diseño de registro y estructura para las bases**\n",
        "\n",
        "https://www.indec.gob.ar/ftp/cuadros/menusuperior/eph/EPH_disenoreg_09.pdf\n",
        "\n",
        "\n",
        "**Canasta básica alimentaria diciembre 2022**\n",
        "\n",
        "https://www.indec.gob.ar/uploads/informesdeprensa/canasta_01_23DF5760FF57.pdf\n",
        "\n"
      ]
    },
    {
      "cell_type": "code",
      "execution_count": null,
      "metadata": {
        "id": "BwBzJH2KA06h"
      },
      "outputs": [],
      "source": [
        "import numpy as np # linear algebra\n",
        "import pandas as pd # data processing, CSV file I/O (e.g. pd.read_csv)\n",
        "import matplotlib.pyplot as plt # data visualization\n",
        "import seaborn as sns # statistical data visualization\n",
        "%matplotlib inline\n",
        "\n",
        "# Input data files are available in the \"../input/\" directory.\n",
        "# For example, running this (by clicking run or pressing Shift+Enter) will list all files under the input directory\n",
        "\n",
        "import os\n",
        "import warnings\n",
        "\n",
        "warnings.filterwarnings('ignore')"
      ]
    },
    {
      "cell_type": "markdown",
      "metadata": {
        "id": "HmNBTgGhKSGa"
      },
      "source": [
        "# **Creamos el dataset**"
      ]
    },
    {
      "cell_type": "code",
      "execution_count": null,
      "metadata": {
        "colab": {
          "base_uri": "https://localhost:8080/",
          "height": 71
        },
        "id": "RahFhAckBA7m",
        "outputId": "83d8fbaa-e81b-4789-9299-04b03e7f936c"
      },
      "outputs": [
        {
          "output_type": "display_data",
          "data": {
            "text/plain": [
              "<IPython.core.display.HTML object>"
            ],
            "text/html": [
              "\n",
              "     <input type=\"file\" id=\"files-e7191959-6eae-487e-b617-40f089e11e08\" name=\"files[]\" multiple disabled\n",
              "        style=\"border:none\" />\n",
              "     <output id=\"result-e7191959-6eae-487e-b617-40f089e11e08\">\n",
              "      Upload widget is only available when the cell has been executed in the\n",
              "      current browser session. Please rerun this cell to enable.\n",
              "      </output>\n",
              "      <script>// Copyright 2017 Google LLC\n",
              "//\n",
              "// Licensed under the Apache License, Version 2.0 (the \"License\");\n",
              "// you may not use this file except in compliance with the License.\n",
              "// You may obtain a copy of the License at\n",
              "//\n",
              "//      http://www.apache.org/licenses/LICENSE-2.0\n",
              "//\n",
              "// Unless required by applicable law or agreed to in writing, software\n",
              "// distributed under the License is distributed on an \"AS IS\" BASIS,\n",
              "// WITHOUT WARRANTIES OR CONDITIONS OF ANY KIND, either express or implied.\n",
              "// See the License for the specific language governing permissions and\n",
              "// limitations under the License.\n",
              "\n",
              "/**\n",
              " * @fileoverview Helpers for google.colab Python module.\n",
              " */\n",
              "(function(scope) {\n",
              "function span(text, styleAttributes = {}) {\n",
              "  const element = document.createElement('span');\n",
              "  element.textContent = text;\n",
              "  for (const key of Object.keys(styleAttributes)) {\n",
              "    element.style[key] = styleAttributes[key];\n",
              "  }\n",
              "  return element;\n",
              "}\n",
              "\n",
              "// Max number of bytes which will be uploaded at a time.\n",
              "const MAX_PAYLOAD_SIZE = 100 * 1024;\n",
              "\n",
              "function _uploadFiles(inputId, outputId) {\n",
              "  const steps = uploadFilesStep(inputId, outputId);\n",
              "  const outputElement = document.getElementById(outputId);\n",
              "  // Cache steps on the outputElement to make it available for the next call\n",
              "  // to uploadFilesContinue from Python.\n",
              "  outputElement.steps = steps;\n",
              "\n",
              "  return _uploadFilesContinue(outputId);\n",
              "}\n",
              "\n",
              "// This is roughly an async generator (not supported in the browser yet),\n",
              "// where there are multiple asynchronous steps and the Python side is going\n",
              "// to poll for completion of each step.\n",
              "// This uses a Promise to block the python side on completion of each step,\n",
              "// then passes the result of the previous step as the input to the next step.\n",
              "function _uploadFilesContinue(outputId) {\n",
              "  const outputElement = document.getElementById(outputId);\n",
              "  const steps = outputElement.steps;\n",
              "\n",
              "  const next = steps.next(outputElement.lastPromiseValue);\n",
              "  return Promise.resolve(next.value.promise).then((value) => {\n",
              "    // Cache the last promise value to make it available to the next\n",
              "    // step of the generator.\n",
              "    outputElement.lastPromiseValue = value;\n",
              "    return next.value.response;\n",
              "  });\n",
              "}\n",
              "\n",
              "/**\n",
              " * Generator function which is called between each async step of the upload\n",
              " * process.\n",
              " * @param {string} inputId Element ID of the input file picker element.\n",
              " * @param {string} outputId Element ID of the output display.\n",
              " * @return {!Iterable<!Object>} Iterable of next steps.\n",
              " */\n",
              "function* uploadFilesStep(inputId, outputId) {\n",
              "  const inputElement = document.getElementById(inputId);\n",
              "  inputElement.disabled = false;\n",
              "\n",
              "  const outputElement = document.getElementById(outputId);\n",
              "  outputElement.innerHTML = '';\n",
              "\n",
              "  const pickedPromise = new Promise((resolve) => {\n",
              "    inputElement.addEventListener('change', (e) => {\n",
              "      resolve(e.target.files);\n",
              "    });\n",
              "  });\n",
              "\n",
              "  const cancel = document.createElement('button');\n",
              "  inputElement.parentElement.appendChild(cancel);\n",
              "  cancel.textContent = 'Cancel upload';\n",
              "  const cancelPromise = new Promise((resolve) => {\n",
              "    cancel.onclick = () => {\n",
              "      resolve(null);\n",
              "    };\n",
              "  });\n",
              "\n",
              "  // Wait for the user to pick the files.\n",
              "  const files = yield {\n",
              "    promise: Promise.race([pickedPromise, cancelPromise]),\n",
              "    response: {\n",
              "      action: 'starting',\n",
              "    }\n",
              "  };\n",
              "\n",
              "  cancel.remove();\n",
              "\n",
              "  // Disable the input element since further picks are not allowed.\n",
              "  inputElement.disabled = true;\n",
              "\n",
              "  if (!files) {\n",
              "    return {\n",
              "      response: {\n",
              "        action: 'complete',\n",
              "      }\n",
              "    };\n",
              "  }\n",
              "\n",
              "  for (const file of files) {\n",
              "    const li = document.createElement('li');\n",
              "    li.append(span(file.name, {fontWeight: 'bold'}));\n",
              "    li.append(span(\n",
              "        `(${file.type || 'n/a'}) - ${file.size} bytes, ` +\n",
              "        `last modified: ${\n",
              "            file.lastModifiedDate ? file.lastModifiedDate.toLocaleDateString() :\n",
              "                                    'n/a'} - `));\n",
              "    const percent = span('0% done');\n",
              "    li.appendChild(percent);\n",
              "\n",
              "    outputElement.appendChild(li);\n",
              "\n",
              "    const fileDataPromise = new Promise((resolve) => {\n",
              "      const reader = new FileReader();\n",
              "      reader.onload = (e) => {\n",
              "        resolve(e.target.result);\n",
              "      };\n",
              "      reader.readAsArrayBuffer(file);\n",
              "    });\n",
              "    // Wait for the data to be ready.\n",
              "    let fileData = yield {\n",
              "      promise: fileDataPromise,\n",
              "      response: {\n",
              "        action: 'continue',\n",
              "      }\n",
              "    };\n",
              "\n",
              "    // Use a chunked sending to avoid message size limits. See b/62115660.\n",
              "    let position = 0;\n",
              "    do {\n",
              "      const length = Math.min(fileData.byteLength - position, MAX_PAYLOAD_SIZE);\n",
              "      const chunk = new Uint8Array(fileData, position, length);\n",
              "      position += length;\n",
              "\n",
              "      const base64 = btoa(String.fromCharCode.apply(null, chunk));\n",
              "      yield {\n",
              "        response: {\n",
              "          action: 'append',\n",
              "          file: file.name,\n",
              "          data: base64,\n",
              "        },\n",
              "      };\n",
              "\n",
              "      let percentDone = fileData.byteLength === 0 ?\n",
              "          100 :\n",
              "          Math.round((position / fileData.byteLength) * 100);\n",
              "      percent.textContent = `${percentDone}% done`;\n",
              "\n",
              "    } while (position < fileData.byteLength);\n",
              "  }\n",
              "\n",
              "  // All done.\n",
              "  yield {\n",
              "    response: {\n",
              "      action: 'complete',\n",
              "    }\n",
              "  };\n",
              "}\n",
              "\n",
              "scope.google = scope.google || {};\n",
              "scope.google.colab = scope.google.colab || {};\n",
              "scope.google.colab._files = {\n",
              "  _uploadFiles,\n",
              "  _uploadFilesContinue,\n",
              "};\n",
              "})(self);\n",
              "</script> "
            ]
          },
          "metadata": {}
        },
        {
          "output_type": "stream",
          "name": "stdout",
          "text": [
            "Saving usu_individual_T422.csv to usu_individual_T422.csv\n"
          ]
        }
      ],
      "source": [
        "#cargamos el archivo de individuos \"usu_individual_T422.csv\"\n",
        "\n",
        "from google.colab import files\n",
        "uploaded  = files.upload()"
      ]
    },
    {
      "cell_type": "code",
      "execution_count": null,
      "metadata": {
        "colab": {
          "background_save": true
        },
        "id": "BOfj5reHCqcb"
      },
      "outputs": [],
      "source": [
        "#creamos el dataframe\n",
        "df_individual = pd.read_csv(\"usu_individual_T422.csv\", sep=';')"
      ]
    },
    {
      "cell_type": "code",
      "execution_count": null,
      "metadata": {
        "colab": {
          "background_save": true
        },
        "id": "Ix3p_VwvGcPr"
      },
      "outputs": [],
      "source": [
        "#medimos las dimensiones\n",
        "df_individual.shape"
      ]
    },
    {
      "cell_type": "code",
      "execution_count": null,
      "metadata": {
        "colab": {
          "background_save": true
        },
        "id": "smS5dVhHYJOl"
      },
      "outputs": [],
      "source": [
        "#df_individual.head"
      ]
    },
    {
      "cell_type": "code",
      "execution_count": null,
      "metadata": {
        "colab": {
          "background_save": true
        },
        "id": "MdnN-BXrCx-_"
      },
      "outputs": [],
      "source": [
        "# le asignamos un % a cada persona que vive en el hogar según género y edad, en la variable 'AE_ctrol_ind'\n",
        "#estos datos fueron proporcionados por el Instituto de Estadísticas de la Facultad de Ciencias Económicas de la UNC\n",
        "\n",
        "condiciones = [\n",
        "    (df_individual ['CH04'] >= 1) & (df_individual['CH06'] < 1),\n",
        "    (df_individual['CH04'] >= 1) & (df_individual['CH06'] == 1),\n",
        "    (df_individual['CH04'] >= 1) & (df_individual['CH06'] == 2),\n",
        "    (df_individual['CH04'] >= 1) & (df_individual['CH06'] == 3),\n",
        "    (df_individual['CH04'] >= 1) & (df_individual['CH06'] == 4),\n",
        "    (df_individual['CH04'] >= 1 ) & ( df_individual['CH06'] == 5),\n",
        "    (df_individual['CH04'] >= 1) & (df_individual['CH06'] == 6),\n",
        "    (df_individual['CH04'] >= 1) & (df_individual['CH06'] == 7),\n",
        "    (df_individual['CH04'] >= 1) & (df_individual['CH06'] == 8),\n",
        "    (df_individual['CH04'] >= 1) & (df_individual['CH06'] == 9),\n",
        "    (df_individual['CH04'] >= 1) & (df_individual['CH06'] == 10),\n",
        "    (df_individual['CH04'] >= 1) & (df_individual['CH06'] == 11),\n",
        "    (df_individual['CH04'] >= 1) & (df_individual['CH06'] == 12),\n",
        "    (df_individual['CH04'] == 2) & (df_individual['CH06'] >= 13) & (df_individual['CH06'] <=14),\n",
        "    (df_individual['CH04'] == 2) & (df_individual['CH06'] >= 15) & (df_individual['CH06'] <=17),\n",
        "    (df_individual['CH04'] == 2) & (df_individual['CH06'] >= 18) & (df_individual['CH06'] <=29),\n",
        "    (df_individual['CH04'] == 2) & (df_individual['CH06'] >= 30) & (df_individual['CH06'] <=45),\n",
        "    (df_individual['CH04'] == 2) & (df_individual['CH06'] >= 46) & (df_individual['CH06'] <=60),\n",
        "    (df_individual['CH04'] == 2) & (df_individual['CH06'] >= 61) & (df_individual['CH06'] <=75),\n",
        "    (df_individual['CH04'] == 2) & (df_individual['CH06'] > 75),\n",
        "    (df_individual['CH04'] == 1) & (df_individual['CH06'] ==10),\n",
        "    (df_individual['CH04'] == 1) & (df_individual['CH06'] ==11),\n",
        "    (df_individual['CH04'] == 1) & (df_individual['CH06'] ==12),\n",
        "    (df_individual['CH04'] == 1) & (df_individual['CH06'] ==13),\n",
        "    (df_individual['CH04'] == 1) & (df_individual['CH06'] ==14),\n",
        "    (df_individual['CH04'] == 1) & (df_individual['CH06'] ==15),\n",
        "    (df_individual['CH04'] == 1) & (df_individual['CH06'] ==16),\n",
        "    (df_individual['CH04'] == 1) & (df_individual['CH06'] ==17),\n",
        "    (df_individual['CH04'] == 1) & (df_individual['CH06'] >= 18) & (df_individual['CH06'] <=29),\n",
        "    (df_individual['CH04'] == 1) & (df_individual['CH06'] >= 30) & (df_individual['CH06'] <=45),\n",
        "    (df_individual['CH04'] == 1) & (df_individual['CH06'] >= 46) & (df_individual['CH06'] <=60),\n",
        "    (df_individual['CH04'] == 1) & (df_individual['CH06'] >= 61) & (df_individual['CH06'] <=75),\n",
        "    (df_individual['CH04'] == 1) & (df_individual['CH06'] > 75)\n",
        "    ]\n",
        "\n",
        "opciones = [0.35,0.37,0.46,0.51,0.55,0.60,0.64,0.66,0.68,0.69,0.70,0.72,0.74,0.76,0.77,0.76,0.77,0.76,0.67,0.63,0.79,0.82,0.85,0.90,\n",
        "            0.96,1.00,1.03,1.04,1.02,1.00,1.00,0.83,0.74]\n",
        "\n"
      ]
    },
    {
      "cell_type": "code",
      "execution_count": null,
      "metadata": {
        "colab": {
          "base_uri": "https://localhost:8080/",
          "height": 165
        },
        "id": "JWTr4G0ZNu8I",
        "outputId": "f102436d-2ecd-4f00-9a6c-e899a14b6a4f"
      },
      "outputs": [
        {
          "output_type": "error",
          "ename": "NameError",
          "evalue": "ignored",
          "traceback": [
            "\u001b[0;31m---------------------------------------------------------------------------\u001b[0m",
            "\u001b[0;31mNameError\u001b[0m                                 Traceback (most recent call last)",
            "\u001b[0;32m<ipython-input-1-1d7468f58bca>\u001b[0m in \u001b[0;36m<cell line: 1>\u001b[0;34m()\u001b[0m\n\u001b[0;32m----> 1\u001b[0;31m \u001b[0mdf_individual\u001b[0m\u001b[0;34m[\u001b[0m\u001b[0;34m'AE_ctrol_ind'\u001b[0m\u001b[0;34m]\u001b[0m\u001b[0;34m=\u001b[0m\u001b[0mnp\u001b[0m\u001b[0;34m.\u001b[0m\u001b[0mselect\u001b[0m\u001b[0;34m(\u001b[0m\u001b[0mcondiciones\u001b[0m\u001b[0;34m,\u001b[0m\u001b[0mopciones\u001b[0m\u001b[0;34m)\u001b[0m\u001b[0;34m\u001b[0m\u001b[0;34m\u001b[0m\u001b[0m\n\u001b[0m",
            "\u001b[0;31mNameError\u001b[0m: name 'np' is not defined"
          ]
        }
      ],
      "source": [
        "df_individual['AE_ctrol_ind']=np.select(condiciones,opciones)"
      ]
    },
    {
      "cell_type": "code",
      "execution_count": null,
      "metadata": {
        "colab": {
          "background_save": true
        },
        "id": "iAI_PMJgOAxO"
      },
      "outputs": [],
      "source": [
        "df_individual.head(5)"
      ]
    },
    {
      "cell_type": "code",
      "execution_count": null,
      "metadata": {
        "colab": {
          "background_save": true
        },
        "id": "8o9uLIkDT3Ki"
      },
      "outputs": [],
      "source": [
        "#seleccionamos solo las columnas que nos interesan para este estudio (ver archivo \"EPH_disenoreg_09 disponible en https://www.indec.gob.ar/ftp/cuadros/menusuperior/eph/EPH_disenoreg_09.pdf\")\n",
        "\n",
        "df_personas = df_individual[['CODUSU','NRO_HOGAR','CH03','CH04','CH06','CH08','NIVEL_ED','CAT_OCUP','CAT_INAC','AE_ctrol_ind']]"
      ]
    },
    {
      "cell_type": "code",
      "execution_count": null,
      "metadata": {
        "colab": {
          "background_save": true
        },
        "id": "qHs7-uGldkz0"
      },
      "outputs": [],
      "source": [
        "df_personas.head(5)"
      ]
    },
    {
      "cell_type": "code",
      "execution_count": null,
      "metadata": {
        "colab": {
          "background_save": true
        },
        "id": "B5sAk0OuNpiW"
      },
      "outputs": [],
      "source": [
        "#sumamos el % de cada persona que compone el hogar (las variables CODUSU y NRO_HOGAR identifican a cada hogar)\n",
        "\n",
        "df_suma = df_personas.groupby(['CODUSU','NRO_HOGAR']).AE_ctrol_ind.sum()"
      ]
    },
    {
      "cell_type": "code",
      "execution_count": null,
      "metadata": {
        "colab": {
          "background_save": true
        },
        "id": "D9yT3Op7Nplg"
      },
      "outputs": [],
      "source": [
        "df_suma.head(5)"
      ]
    },
    {
      "cell_type": "code",
      "execution_count": null,
      "metadata": {
        "colab": {
          "background_save": true
        },
        "id": "uKG9mJW_dlAK"
      },
      "outputs": [],
      "source": [
        "df_suma.shape"
      ]
    },
    {
      "cell_type": "code",
      "execution_count": null,
      "metadata": {
        "colab": {
          "background_save": true
        },
        "id": "CVyiMCzAaj0k"
      },
      "outputs": [],
      "source": [
        "#unimos los dos dataframes según las variables CODUSU y NRO_HOGAR\n",
        "\n",
        "df_personas_suma = pd.merge(df_personas, df_suma, on=['CODUSU','NRO_HOGAR'])"
      ]
    },
    {
      "cell_type": "code",
      "execution_count": null,
      "metadata": {
        "colab": {
          "background_save": true
        },
        "id": "P9x7vhRYSghx"
      },
      "outputs": [],
      "source": [
        "df_personas_suma.head(5)"
      ]
    },
    {
      "cell_type": "code",
      "execution_count": null,
      "metadata": {
        "colab": {
          "background_save": true
        },
        "id": "HxvWMCDvUbrB"
      },
      "outputs": [],
      "source": [
        "#renombramos las columnas\n",
        "\n",
        "df_personas_suma = df_personas_suma.rename(columns={\n",
        "     'CH03':'parentesco',\n",
        "     'CH04':'genero',\n",
        "     'CH06':'edad',\n",
        "     'CH08':'cob_medica',\n",
        "     'AE_ctrol_ind_x':'AE_ctrol_ind',\n",
        "     'AE_ctrol_ind_y':'AE_ctrol_ind_sum'})"
      ]
    },
    {
      "cell_type": "code",
      "execution_count": null,
      "metadata": {
        "colab": {
          "background_save": true
        },
        "id": "_k3D7D1DUtJY"
      },
      "outputs": [],
      "source": [
        "df_personas_suma.head(2)"
      ]
    },
    {
      "cell_type": "code",
      "execution_count": null,
      "metadata": {
        "colab": {
          "background_save": true
        },
        "id": "aO8myyQEVROW"
      },
      "outputs": [],
      "source": [
        "df_personas_suma.shape"
      ]
    },
    {
      "cell_type": "code",
      "execution_count": null,
      "metadata": {
        "colab": {
          "background_save": true
        },
        "id": "C36-R3tcniae"
      },
      "outputs": [],
      "source": [
        "#seleccionamos solo los que cumplen la condición de jefes/as de hogar\n",
        "\n",
        "df_personas_jefes = df_personas_suma.loc[df_personas_suma.loc[:, 'parentesco'] == 1]"
      ]
    },
    {
      "cell_type": "code",
      "execution_count": null,
      "metadata": {
        "colab": {
          "background_save": true
        },
        "id": "_X9L1WcVrGCh"
      },
      "outputs": [],
      "source": [
        "df_personas_jefes.head(5)"
      ]
    },
    {
      "cell_type": "code",
      "execution_count": null,
      "metadata": {
        "colab": {
          "background_save": true
        },
        "id": "PGXKYnK_rzuF"
      },
      "outputs": [],
      "source": [
        "#comprobamos la cantidad de filas\n",
        "\n",
        "df_personas_jefes.shape"
      ]
    },
    {
      "cell_type": "code",
      "execution_count": null,
      "metadata": {
        "colab": {
          "background_save": true
        },
        "id": "14xrvT9qDox6"
      },
      "outputs": [],
      "source": [
        "#exportamos el dataframe como .csv\n",
        "df_personas_jefes.to_csv('df_personas_jefes.csv', sep=';', index=False)"
      ]
    },
    {
      "cell_type": "code",
      "execution_count": null,
      "metadata": {
        "colab": {
          "background_save": true
        },
        "id": "yjEgBwTLSidc"
      },
      "outputs": [],
      "source": [
        "#cargamos el archivo de hogares \"usu_hogar_T422.csv\"\n",
        "\n",
        "from google.colab import files\n",
        "uploaded  = files.upload()"
      ]
    },
    {
      "cell_type": "code",
      "execution_count": null,
      "metadata": {
        "colab": {
          "background_save": true
        },
        "id": "079eUZH0bboZ"
      },
      "outputs": [],
      "source": [
        "#creamos el dataframe hogares\n",
        "df_hogares = pd.read_csv(\"usu_hogar_T422.csv\", sep=\";\")"
      ]
    },
    {
      "cell_type": "code",
      "execution_count": null,
      "metadata": {
        "colab": {
          "background_save": true
        },
        "id": "r-T8WY3Sr7cD"
      },
      "outputs": [],
      "source": [
        "#comprobamos la cantidad de filas\n",
        "\n",
        "df_hogares.shape"
      ]
    },
    {
      "cell_type": "markdown",
      "metadata": {
        "id": "pQyfNHkjENXj"
      },
      "source": [
        "Vemos que la cantidad de filas coincide con la del dataframe df_personas_jefes\n"
      ]
    },
    {
      "cell_type": "code",
      "execution_count": null,
      "metadata": {
        "colab": {
          "background_save": true
        },
        "id": "Ni5sI17AnD3p"
      },
      "outputs": [],
      "source": [
        "#unimos los dos dataframes, que tienen la misma cantidad de filas, según las variables CODUSU y NRO_HOGAR\n",
        "\n",
        "df_dataset = pd.merge(df_hogares, df_personas_jefes, on=['CODUSU','NRO_HOGAR'])"
      ]
    },
    {
      "cell_type": "code",
      "execution_count": null,
      "metadata": {
        "colab": {
          "background_save": true
        },
        "id": "yCUnWi5XK918"
      },
      "outputs": [],
      "source": [
        "#comprobamos la cantidad de filas\n",
        "\n",
        "df_dataset.shape"
      ]
    },
    {
      "cell_type": "code",
      "execution_count": null,
      "metadata": {
        "colab": {
          "background_save": true
        },
        "id": "KYbChetLnSfC"
      },
      "outputs": [],
      "source": [
        "df_dataset.head(2)"
      ]
    },
    {
      "cell_type": "code",
      "execution_count": null,
      "metadata": {
        "colab": {
          "background_save": true
        },
        "id": "pdTVOt7DiChw"
      },
      "outputs": [],
      "source": [
        "#df_dataset = df_dataset.drop(['Unnamed: 0'], axis=1)"
      ]
    },
    {
      "cell_type": "code",
      "execution_count": null,
      "metadata": {
        "colab": {
          "background_save": true
        },
        "id": "wYHohGGiE_ZT"
      },
      "outputs": [],
      "source": [
        "#la variable ITF representa el monto de ingreso total familiar (ver archivo \"EPH_disenoreg_09 disponible en https://www.indec.gob.ar/ftp/cuadros/menusuperior/eph/EPH_disenoreg_09.pdf\")\n",
        "#a este monto lo dividimos por la suma de % de las personas que residen en el hogar para obtener el ingreso por adulto equivalente\n",
        "\n",
        "df_dataset['adulto_equivalente']= df_dataset.apply(lambda row: row.ITF/row.AE_ctrol_ind_sum, axis=1)"
      ]
    },
    {
      "cell_type": "code",
      "execution_count": null,
      "metadata": {
        "colab": {
          "background_save": true
        },
        "id": "DXJ_jn3lKoQF"
      },
      "outputs": [],
      "source": [
        "df_dataset['adulto_equivalente']= round(df_dataset['adulto_equivalente'], 2)"
      ]
    },
    {
      "cell_type": "code",
      "execution_count": null,
      "metadata": {
        "colab": {
          "background_save": true
        },
        "id": "697UkkJnJFHZ"
      },
      "outputs": [],
      "source": [
        "df_dataset.head(5)"
      ]
    },
    {
      "cell_type": "code",
      "execution_count": null,
      "metadata": {
        "colab": {
          "background_save": true
        },
        "id": "8hYnKNHsevJ4"
      },
      "outputs": [],
      "source": [
        "#creamos la variable objetivo, pobreza\n",
        "\n",
        "\"\"\"\n",
        "De acuerdo con el archivo \"canasta_01_23DF5760FF57\" (disponible en https://www.indec.gob.ar/uploads/informesdeprensa/canasta_01_23DF5760FF57.pdf)\n",
        "la canasta básica total para un adulto equivalente, para que no ingrese en la línea de pobreza, es de $49.358.\n",
        "\n",
        "Creamos la varibale pobreza, donde todos los hogares que tengan ingresos menores a este valor son pobres.\n",
        "\"\"\"\n",
        "\n",
        "df_dataset['pobreza'] = np.where(df_dataset['adulto_equivalente']<49358,1,0)\n"
      ]
    },
    {
      "cell_type": "code",
      "execution_count": null,
      "metadata": {
        "colab": {
          "background_save": true
        },
        "id": "oKh4HIQqtN1b"
      },
      "outputs": [],
      "source": [
        "df_dataset['pobreza'].value_counts()"
      ]
    },
    {
      "cell_type": "code",
      "execution_count": null,
      "metadata": {
        "colab": {
          "base_uri": "https://localhost:8080/",
          "height": 165
        },
        "id": "AYFOGV4TlVRr",
        "outputId": "59e8d426-4777-4d12-86c7-ebfe4c7361b1"
      },
      "outputs": [
        {
          "output_type": "error",
          "ename": "NameError",
          "evalue": "ignored",
          "traceback": [
            "\u001b[0;31m---------------------------------------------------------------------------\u001b[0m",
            "\u001b[0;31mNameError\u001b[0m                                 Traceback (most recent call last)",
            "\u001b[0;32m<ipython-input-3-ad6689ec5d50>\u001b[0m in \u001b[0;36m<cell line: 1>\u001b[0;34m()\u001b[0m\n\u001b[0;32m----> 1\u001b[0;31m \u001b[0mdf_dataset\u001b[0m\u001b[0;34m.\u001b[0m\u001b[0mhead\u001b[0m\u001b[0;34m(\u001b[0m\u001b[0;36m5\u001b[0m\u001b[0;34m)\u001b[0m\u001b[0;34m\u001b[0m\u001b[0;34m\u001b[0m\u001b[0m\n\u001b[0m",
            "\u001b[0;31mNameError\u001b[0m: name 'df_dataset' is not defined"
          ]
        }
      ],
      "source": [
        "df_dataset.head(5)"
      ]
    },
    {
      "cell_type": "code",
      "execution_count": null,
      "metadata": {
        "colab": {
          "base_uri": "https://localhost:8080/",
          "height": 165
        },
        "id": "ilAB-wHFevzU",
        "outputId": "02339226-d716-4687-c956-d49c043f704b"
      },
      "outputs": [
        {
          "output_type": "error",
          "ename": "NameError",
          "evalue": "ignored",
          "traceback": [
            "\u001b[0;31m---------------------------------------------------------------------------\u001b[0m",
            "\u001b[0;31mNameError\u001b[0m                                 Traceback (most recent call last)",
            "\u001b[0;32m<ipython-input-2-8b24ecbd5bc4>\u001b[0m in \u001b[0;36m<cell line: 1>\u001b[0;34m()\u001b[0m\n\u001b[0;32m----> 1\u001b[0;31m \u001b[0mdf_dataset\u001b[0m\u001b[0;34m.\u001b[0m\u001b[0mto_csv\u001b[0m\u001b[0;34m(\u001b[0m\u001b[0;34m'dataset.csv'\u001b[0m\u001b[0;34m)\u001b[0m\u001b[0;34m\u001b[0m\u001b[0;34m\u001b[0m\u001b[0m\n\u001b[0m",
            "\u001b[0;31mNameError\u001b[0m: name 'df_dataset' is not defined"
          ]
        }
      ],
      "source": [
        "df_dataset.to_csv('dataset.csv')"
      ]
    },
    {
      "cell_type": "code",
      "source": [],
      "metadata": {
        "id": "u60Lkd6ymNaH"
      },
      "execution_count": null,
      "outputs": []
    },
    {
      "cell_type": "markdown",
      "metadata": {
        "id": "pfPT-tRQuc59"
      },
      "source": [
        "# **Cleaning**"
      ]
    },
    {
      "cell_type": "code",
      "execution_count": null,
      "metadata": {
        "colab": {
          "background_save": true
        },
        "id": "47CVnC4tWvpv"
      },
      "outputs": [],
      "source": [
        "from google.colab import files\n",
        "uploaded  = files.upload()"
      ]
    },
    {
      "cell_type": "code",
      "execution_count": null,
      "metadata": {
        "id": "YtPXsd1CXzmS"
      },
      "outputs": [],
      "source": [
        "df_dataset = pd.read_csv(\"dataset.csv\")"
      ]
    },
    {
      "cell_type": "code",
      "execution_count": null,
      "metadata": {
        "id": "PBXALlB3YDUD"
      },
      "outputs": [],
      "source": [
        "df_dataset = df_dataset.drop(['Unnamed: 0'], axis=1)"
      ]
    },
    {
      "cell_type": "code",
      "execution_count": null,
      "metadata": {
        "colab": {
          "base_uri": "https://localhost:8080/"
        },
        "id": "cSi2RelZLJ2c",
        "outputId": "4653101e-27f1-4125-96dd-0d7089c0c588"
      },
      "outputs": [
        {
          "output_type": "execute_result",
          "data": {
            "text/plain": [
              "Index(['CODUSU', 'ANO4', 'TRIMESTRE', 'NRO_HOGAR', 'REALIZADA', 'REGION',\n",
              "       'MAS_500', 'AGLOMERADO', 'PONDERA', 'IV1', 'IV1_ESP', 'IV2', 'IV3',\n",
              "       'IV3_ESP', 'IV4', 'IV5', 'IV6', 'IV7', 'IV7_ESP', 'IV8', 'IV9', 'IV10',\n",
              "       'IV11', 'IV12_1', 'IV12_2', 'IV12_3', 'II1', 'II2', 'II3', 'II3_1',\n",
              "       'II4_1', 'II4_2', 'II4_3', 'II5', 'II5_1', 'II6', 'II6_1', 'II7',\n",
              "       'II7_ESP', 'II8', 'II8_ESP', 'II9', 'V1', 'V2', 'V21', 'V22', 'V3',\n",
              "       'V4', 'V5', 'V6', 'V7', 'V8', 'V9', 'V10', 'V11', 'V12', 'V13', 'V14',\n",
              "       'V15', 'V16', 'V17', 'V18', 'V19_A', 'V19_B', 'IX_TOT', 'IX_MEN10',\n",
              "       'IX_MAYEQ10', 'ITF', 'DECIFR', 'IDECIFR', 'RDECIFR', 'GDECIFR',\n",
              "       'PDECIFR', 'ADECIFR', 'IPCF', 'DECCFR', 'IDECCFR', 'RDECCFR', 'GDECCFR',\n",
              "       'PDECCFR', 'ADECCFR', 'PONDIH', 'VII1_1', 'VII1_2', 'VII2_1', 'VII2_2',\n",
              "       'VII2_3', 'VII2_4', 'parentesco', 'genero', 'edad', 'cob_medica',\n",
              "       'NIVEL_ED', 'CAT_OCUP', 'CAT_INAC', 'AE_ctrol_ind', 'AE_ctrol_ind_sum',\n",
              "       'adulto_equivalente', 'pobreza'],\n",
              "      dtype='object')"
            ]
          },
          "metadata": {},
          "execution_count": 7
        }
      ],
      "source": [
        "# vemos los nombres de las columnas\n",
        "\n",
        "\"\"\"\n",
        "IV1 N(1) Tipo de vivienda ( por observación)  / IV1_Esp C(45) Otro tipo de vivienda. Especificar:\n",
        "IV2 N(2) ¿Cuántos ambientes / habitaciones tiene la vivienda en total? (sin contar baño/s, cocina, pasillo/s, lavadero, garage)\n",
        "IV3 N(1) Los pisos interiores son principalmente de.....  /  IV3_Esp C(45) Otro material de pisos interiores. Especificar:\n",
        "IV4 N(2) La cubierta exterior del techo es de....\n",
        "IV5 N(1) ¿El techo tiene cielorraso / revestimiento interior?\n",
        "IV6 N(1) Tiene agua...\n",
        "IV7 N(1) El agua es de...  / IV7_Esp C(45) Otra fuente. Especificar:\n",
        "IV8 N(1) ¿Tiene baño / letrina?\n",
        "IV9 N(1) El baño o letrina está...\n",
        "IV10 N(1) El baño tiene...\n",
        "IV11 N(1) El desagüe del baño es...\n",
        "IV12_1 N(1) ¿La vivienda está ubicada cerca de basural/es (3 cuadras o menos)?\n",
        "IV12_2 N(1) ¿La vivienda está ubicada en zona inundable (en los últimos 12 meses)?\n",
        "IV12_3 N(1) ¿La vivienda está ubicada en villa de emergencia? (por observación)\n",
        "\n",
        "II7 N(2) Régimen de tenencia\n",
        "II8 N(1) Combustible utilizado para cocina\n",
        "\n",
        "\"\"\"\n",
        "col_names = df_dataset.columns\n",
        "\n",
        "col_names"
      ]
    },
    {
      "cell_type": "code",
      "execution_count": null,
      "metadata": {
        "colab": {
          "base_uri": "https://localhost:8080/"
        },
        "id": "nhet8XTa1q3n",
        "outputId": "825d376a-da54-4850-c1e7-71673510dd3b"
      },
      "outputs": [
        {
          "output_type": "execute_result",
          "data": {
            "text/plain": [
              "(16740, 99)"
            ]
          },
          "metadata": {},
          "execution_count": 8
        }
      ],
      "source": [
        "df_dataset.shape"
      ]
    },
    {
      "cell_type": "markdown",
      "source": [
        "analizamos la fuente de ingresos de los hogares pobres\n"
      ],
      "metadata": {
        "id": "pVNp3_mP0Fus"
      }
    },
    {
      "cell_type": "code",
      "source": [
        "#creamos un diccionario con las fuentes de ingresos de cada hogar\n",
        "Fuentes_Ingresos = {\n",
        "    'V1': 'de lo que ganan en el trabajo',\n",
        "    'V2': 'de alguna jubilación o pensión',\n",
        "    'V3': 'de indemnización por despido',\n",
        "    'V4': 'de seguro de desempleo',\n",
        "    'V5': 'de subsidio o ayuda social (en dinero) del gobierno, iglesias, etc.',\n",
        "    'V6': 'con mercaderías, ropa, alimentos del gobierno, iglesias, escuelas, etc.',\n",
        "    'V7': 'con mercaderías, ropa, alimentos de familiares, vecinos u otras personas que no viven en este hogar',\n",
        "    'V8': 'algún alquiler (por una vivienda, terreno, oficina, etc.) de su propiedad',\n",
        "    'V9': 'ganancias de algún negocio en el que no trabajan',\n",
        "    'V10': 'intereses o rentas por plazos fijos / inversiones',\n",
        "    'V11': 'una beca de estudio',\n",
        "    'V12': 'cuotas de alimentos o ayuda en dinero de personas que no viven en el hogar',\n",
        "    'V13': 'gastar lo que tenían ahorrado',\n",
        "    'V14': 'pedir préstamos a familiares / amigos',\n",
        "    'V15': 'pedir préstamos a bancos, financieras, etc.',\n",
        "    'V16': 'Compran en cuotas o al fiado con tarjeta de crédito o libreta',\n",
        "    'V17': 'Han tenido que vender alguna de sus pertenencias',\n",
        "    'V18': 'Tuvieron otros ingresos en efectivo (limosnas, juegos de azar, etc.)',\n",
        "    'V19_A': 'Menores de 10 años ayudan con algún dinero trabajando',\n",
        "    'V19_B': 'Menores de 10 años ayudan con algún dinero pidiendo'\n",
        "}"
      ],
      "metadata": {
        "id": "R36QmepKsfMG"
      },
      "execution_count": null,
      "outputs": []
    },
    {
      "cell_type": "code",
      "source": [
        "#seleccionamos los hogares pobres\n",
        "df_pobres = df_dataset[df_dataset['pobreza'] == 1]"
      ],
      "metadata": {
        "id": "Z0SuovKWxb5R"
      },
      "execution_count": null,
      "outputs": []
    },
    {
      "cell_type": "code",
      "source": [
        "#borramos los hogares con ITF = 0\n",
        "df_pobres2 = df_pobres.drop(df_pobres[df_pobres['ITF']==0].index)"
      ],
      "metadata": {
        "id": "utR4Fp58zTub"
      },
      "execution_count": null,
      "outputs": []
    },
    {
      "cell_type": "code",
      "source": [
        "# Creamos una lista de tuplas con la información de cada variable en los hogares pobres\n",
        "data_pobres = []\n",
        "for column in Fuentes_Ingresos:\n",
        "    count_yes = (df_pobres2[column] == 1).sum()\n",
        "    data_pobres.append((column, Fuentes_Ingresos[column], count_yes))"
      ],
      "metadata": {
        "id": "CtqiXkunxrR3"
      },
      "execution_count": null,
      "outputs": []
    },
    {
      "cell_type": "code",
      "source": [
        "# Ordenamos la lista de tuplas según el número total de respuestas \"Sí\" en los hogares pobres\n",
        "data_pobres.sort(key=lambda x: x[2], reverse=True)"
      ],
      "metadata": {
        "id": "vNq3qV-gx88W"
      },
      "execution_count": null,
      "outputs": []
    },
    {
      "cell_type": "code",
      "source": [
        "# mostramos el nombre y la descripción de cada variable y el número total de respuestas \"Sí\" en los hogares pobres\n",
        "for item in data_pobres:\n",
        "    print('{} ({}): {}'.format(item[0], item[1], item[2]))"
      ],
      "metadata": {
        "colab": {
          "base_uri": "https://localhost:8080/"
        },
        "id": "LLPZ6ZhXvufP",
        "outputId": "efa6eeb4-8f6e-4696-845a-8be0c5f301ae"
      },
      "execution_count": null,
      "outputs": [
        {
          "output_type": "stream",
          "name": "stdout",
          "text": [
            "V1 (de lo que ganan en el trabajo): 4142\n",
            "V16 (Compran en cuotas o al fiado con tarjeta de crédito o libreta): 2317\n",
            "V5 (de subsidio o ayuda social (en dinero) del gobierno, iglesias, etc.): 1721\n",
            "V2 (de alguna jubilación o pensión): 1405\n",
            "V13 (gastar lo que tenían ahorrado): 1355\n",
            "V14 (pedir préstamos a familiares / amigos): 899\n",
            "V12 (cuotas de alimentos o ayuda en dinero de personas que no viven en el hogar): 639\n",
            "V15 (pedir préstamos a bancos, financieras, etc.): 580\n",
            "V7 (con mercaderías, ropa, alimentos de familiares, vecinos u otras personas que no viven en este hogar): 572\n",
            "V17 (Han tenido que vender alguna de sus pertenencias): 552\n",
            "V6 (con mercaderías, ropa, alimentos del gobierno, iglesias, escuelas, etc.): 442\n",
            "V11 (una beca de estudio): 399\n",
            "V8 (algún alquiler (por una vivienda, terreno, oficina, etc.) de su propiedad): 32\n",
            "V4 (de seguro de desempleo): 16\n",
            "V10 (intereses o rentas por plazos fijos / inversiones): 11\n",
            "V18 (Tuvieron otros ingresos en efectivo (limosnas, juegos de azar, etc.)): 5\n",
            "V19_B (Menores de 10 años ayudan con algún dinero pidiendo): 5\n",
            "V3 (de indemnización por despido): 3\n",
            "V9 (ganancias de algún negocio en el que no trabajan): 3\n",
            "V19_A (Menores de 10 años ayudan con algún dinero trabajando): 0\n"
          ]
        }
      ]
    },
    {
      "cell_type": "code",
      "source": [
        "#renombramos las columnas del dataset original\n",
        "\n",
        "df_dataset = df_dataset.rename(columns={\n",
        "     'V1':'Ingresos_Trabajo',\n",
        "     'V16':'Ingresos_Fiado_Cuotas',\n",
        "     'V5':'Ingresos_Subs_AyudaScial',\n",
        "     'V2':'Ingresos_Jub_Pen',\n",
        "     'V13':'Ingresos_PrestConocidos'})\n"
      ],
      "metadata": {
        "id": "-lAIsFd_z1_r"
      },
      "execution_count": null,
      "outputs": []
    },
    {
      "cell_type": "code",
      "source": [
        "# Creamos una nueva columna que represente si el hogar tiene otras fuentes de ingresos\n",
        "df_dataset['otrasFuentesIngresos'] = 2"
      ],
      "metadata": {
        "id": "7Gjejbkr2_8i"
      },
      "execution_count": null,
      "outputs": []
    },
    {
      "cell_type": "code",
      "source": [
        "# Actualizamos el valor de la columna 'otrasFuentesIngresos' para los hogares que tienen otras fuentes de ingresos\n",
        "df_dataset.loc[(df_dataset[['V12', 'V15', 'V7', 'V17', 'V6', 'V11', 'V8', 'V4', 'V10', 'V18', 'V19_B', 'V3', 'V9', 'V19_A','V21','V22','V14']] == 1).any(axis=1), 'otrasFuentesIngresos'] = 1"
      ],
      "metadata": {
        "id": "s-mv3ZVh2EyM"
      },
      "execution_count": null,
      "outputs": []
    },
    {
      "cell_type": "code",
      "source": [
        "#vemos el contenido de otrasFuentesIngresos siendo 1=Sí y 2=No\n",
        "df_dataset['otrasFuentesIngresos'].value_counts()"
      ],
      "metadata": {
        "colab": {
          "base_uri": "https://localhost:8080/"
        },
        "id": "DjqGVR6x3NOt",
        "outputId": "659ee89e-9b81-48ff-dfc0-c9b99fab2c10"
      },
      "execution_count": null,
      "outputs": [
        {
          "output_type": "execute_result",
          "data": {
            "text/plain": [
              "2    9312\n",
              "1    7428\n",
              "Name: otrasFuentesIngresos, dtype: int64"
            ]
          },
          "metadata": {},
          "execution_count": 18
        }
      ]
    },
    {
      "cell_type": "code",
      "execution_count": null,
      "metadata": {
        "id": "i88vcM0O1qCh"
      },
      "outputs": [],
      "source": [
        "#de todas las columnas que indican localización dejamos solo Aglomerado\n",
        "#también quitamos año, trimestre y realizada\n",
        "#la variable de ponderación\n",
        "#todos los deciles\n",
        "#el % individual del jefe/a que reside en el hogar\n",
        "#las avriables que recién agrupamos en una sola\n",
        "\n",
        "df_dataset = df_dataset.drop(['ANO4','TRIMESTRE','REALIZADA','REGION','MAS_500','PONDERA','DECIFR','IDECIFR','RDECIFR','GDECIFR','PDECIFR','ADECIFR','DECCFR','IDECCFR','RDECCFR','GDECCFR','PDECCFR','ADECCFR','PONDIH','AE_ctrol_ind','V12', 'V15', 'V7', 'V17', 'V6', 'V11', 'V8', 'V4', 'V10', 'V18', 'V19_B', 'V3', 'V9', 'V19_A','V21','V22','V14'], axis=1)"
      ]
    },
    {
      "cell_type": "code",
      "source": [
        "df_dataset.shape"
      ],
      "metadata": {
        "colab": {
          "base_uri": "https://localhost:8080/"
        },
        "id": "QcPle5q69Cai",
        "outputId": "0b7fe1ad-aa0c-4b19-d396-f927bcc65b51"
      },
      "execution_count": null,
      "outputs": [
        {
          "output_type": "execute_result",
          "data": {
            "text/plain": [
              "(16740, 63)"
            ]
          },
          "metadata": {},
          "execution_count": 20
        }
      ]
    },
    {
      "cell_type": "code",
      "execution_count": null,
      "metadata": {
        "id": "GmE7yDjG18x3"
      },
      "outputs": [],
      "source": [
        "#df_dataset.sort_values(by=['adulto_equivalente'])"
      ]
    },
    {
      "cell_type": "code",
      "execution_count": null,
      "metadata": {
        "id": "d9PH2yo7zS37"
      },
      "outputs": [],
      "source": [
        "#correlation_matrix = df_dataset.corr()"
      ]
    },
    {
      "cell_type": "code",
      "execution_count": null,
      "metadata": {
        "colab": {
          "base_uri": "https://localhost:8080/",
          "height": 87
        },
        "id": "h5EHNtej5RPU",
        "outputId": "23e94d4d-0356-4173-984e-ee8328a05f08"
      },
      "outputs": [
        {
          "output_type": "execute_result",
          "data": {
            "text/plain": [
              "'def format_value(value):\\n    if np.isnan(value):\\n        return \\'\\'\\n    else:\\n        return f\\'{value:.2f}\\'\\n\\nfig, ax = plt.subplots(figsize=(100, 100))\\nsns.heatmap(correlation_matrix, annot=True, cmap=\\'coolwarm\\', ax=ax, annot_kws={\"size\": 20}, fmt=\\'\\')\\nax.tick_params(axis=\\'both\\', labelsize=25)\\nax.set_xticklabels(ax.get_xticklabels(), rotation=45, ha=\\'right\\')\\nax.set_yticklabels(ax.get_yticklabels(), rotation=0)\\nfor text in ax.texts:\\n    text.set_text(format_value(float(text.get_text())))'"
            ],
            "application/vnd.google.colaboratory.intrinsic+json": {
              "type": "string"
            }
          },
          "metadata": {},
          "execution_count": 21
        }
      ],
      "source": [
        "\"\"\"def format_value(value):\n",
        "    if np.isnan(value):\n",
        "        return ''\n",
        "    else:\n",
        "        return f'{value:.2f}'\n",
        "\n",
        "fig, ax = plt.subplots(figsize=(100, 100))\n",
        "sns.heatmap(correlation_matrix, annot=True, cmap='coolwarm', ax=ax, annot_kws={\"size\": 20}, fmt='')\n",
        "ax.tick_params(axis='both', labelsize=25)\n",
        "ax.set_xticklabels(ax.get_xticklabels(), rotation=45, ha='right')\n",
        "ax.set_yticklabels(ax.get_yticklabels(), rotation=0)\n",
        "for text in ax.texts:\n",
        "    text.set_text(format_value(float(text.get_text())))\"\"\""
      ]
    },
    {
      "cell_type": "code",
      "execution_count": null,
      "metadata": {
        "id": "iEIDXxJc3zdf"
      },
      "outputs": [],
      "source": [
        "#guardamos el grafico\n",
        "#fig.savefig('mapaCorrelacion.jpg', dpi=72)"
      ]
    },
    {
      "cell_type": "markdown",
      "metadata": {
        "id": "XdTNcUKu3_G_"
      },
      "source": [
        "Análisis de la variable ITF"
      ]
    },
    {
      "cell_type": "code",
      "execution_count": null,
      "metadata": {
        "colab": {
          "base_uri": "https://localhost:8080/"
        },
        "id": "MN3Ph_G7U2cs",
        "outputId": "59e7d893-2fce-485b-fb9b-e391083d6761"
      },
      "outputs": [
        {
          "output_type": "stream",
          "name": "stdout",
          "text": [
            "count      16740.0\n",
            "mean      118416.0\n",
            "std       126622.0\n",
            "min            0.0\n",
            "25%        34000.0\n",
            "50%        97000.0\n",
            "75%       168425.0\n",
            "max      5300000.0\n",
            "Name: ITF, dtype: float64 2\n"
          ]
        }
      ],
      "source": [
        "#la variable ITF representa el monto de ingreso total familiar\n",
        "#analizamos sus datos\n",
        "\n",
        "print(round(df_dataset['ITF'].describe()),2)"
      ]
    },
    {
      "cell_type": "code",
      "execution_count": null,
      "metadata": {
        "colab": {
          "base_uri": "https://localhost:8080/"
        },
        "id": "-AIhwrBDaYKC",
        "outputId": "b0b346fb-caca-452e-90dc-6836077802b5"
      },
      "outputs": [
        {
          "output_type": "execute_result",
          "data": {
            "text/plain": [
              "3739"
            ]
          },
          "metadata": {},
          "execution_count": 24
        }
      ],
      "source": [
        "#analizamos si hay valores 0 en la variable ITF\n",
        "ITF_cero = [x for x in df_dataset['ITF'] if x == 0]\n",
        "len(ITF_cero)"
      ]
    },
    {
      "cell_type": "code",
      "execution_count": null,
      "metadata": {
        "colab": {
          "base_uri": "https://localhost:8080/"
        },
        "id": "AVLdzYjeKgfT",
        "outputId": "69d492cf-011c-4487-eaec-70c20acce62f"
      },
      "outputs": [
        {
          "output_type": "execute_result",
          "data": {
            "text/plain": [
              "0"
            ]
          },
          "metadata": {},
          "execution_count": 25
        }
      ],
      "source": [
        "# Calcular la moda\n",
        "moda = df_dataset['ITF'].mode()[0]\n",
        "moda"
      ]
    },
    {
      "cell_type": "code",
      "execution_count": null,
      "metadata": {
        "colab": {
          "base_uri": "https://localhost:8080/"
        },
        "id": "AILksbe2ZTps",
        "outputId": "1d3a534f-91ec-4fc0-9c15-88c7fd4ce93c"
      },
      "outputs": [
        {
          "output_type": "execute_result",
          "data": {
            "text/plain": [
              "0.4616228070175439"
            ]
          },
          "metadata": {},
          "execution_count": 26
        }
      ],
      "source": [
        "porcentaje_0ingresos = 3789/8208\n",
        "porcentaje_0ingresos\n"
      ]
    },
    {
      "cell_type": "code",
      "execution_count": null,
      "metadata": {
        "id": "otqb5F5HccNy"
      },
      "outputs": [],
      "source": [
        "#hay 3.739 hogares que declararon ingresos $0.\n",
        "#analizamos el nivel de pobreza sin tener en cuenta estos hogares\n",
        "\n",
        "df_dataset_sin0ingresos = df_dataset.drop(df_dataset[df_dataset['ITF']==0].index)"
      ]
    },
    {
      "cell_type": "code",
      "execution_count": null,
      "metadata": {
        "colab": {
          "base_uri": "https://localhost:8080/"
        },
        "id": "1WN-xo9MaQNq",
        "outputId": "7af1356e-fc37-4020-c947-5b7bd3a3194a"
      },
      "outputs": [
        {
          "output_type": "execute_result",
          "data": {
            "text/plain": [
              "0"
            ]
          },
          "metadata": {},
          "execution_count": 28
        }
      ],
      "source": [
        "ITF_cero = [x for x in df_dataset_sin0ingresos['ITF'] if x == 0]\n",
        "len(ITF_cero)"
      ]
    },
    {
      "cell_type": "code",
      "execution_count": null,
      "metadata": {
        "id": "1b80FJMzbgQ-"
      },
      "outputs": [],
      "source": [
        "# Contar los valores únicos en la columna 'pobreza'\n",
        "counts = df_dataset_sin0ingresos['pobreza'].value_counts()\n"
      ]
    },
    {
      "cell_type": "code",
      "execution_count": null,
      "metadata": {
        "colab": {
          "base_uri": "https://localhost:8080/"
        },
        "id": "Yl-GOtfebqyG",
        "outputId": "723c05e6-6ae7-4d79-821d-6c50d2d59cc0"
      },
      "outputs": [
        {
          "output_type": "stream",
          "name": "stdout",
          "text": [
            "El porcentaje de pobreza es 36.87%\n"
          ]
        }
      ],
      "source": [
        "# Calcular el porcentaje de pobreza\n",
        "porcentaje_pobreza = counts[1] / len(df_dataset_sin0ingresos) * 100\n",
        "\n",
        "print(f'El porcentaje de pobreza es {porcentaje_pobreza:.2f}%')"
      ]
    },
    {
      "cell_type": "code",
      "execution_count": null,
      "metadata": {
        "colab": {
          "base_uri": "https://localhost:8080/"
        },
        "id": "GG5yyuws-FGz",
        "outputId": "ab7bae51-d06f-467e-9b11-1d4526a64977"
      },
      "outputs": [
        {
          "output_type": "stream",
          "name": "stdout",
          "text": [
            "count      13001.0\n",
            "mean      152471.0\n",
            "std       124304.0\n",
            "min          400.0\n",
            "25%        80000.0\n",
            "50%       120500.0\n",
            "75%       194000.0\n",
            "max      5300000.0\n",
            "Name: ITF, dtype: float64 2\n"
          ]
        }
      ],
      "source": [
        "#la variable ITF representa el monto de ingreso total familiar\n",
        "#analizamos sus datos si no tomamos en cuenta los hogares que no declaran ingresos\n",
        "\n",
        "print(round(df_dataset_sin0ingresos['ITF'].describe()),2)"
      ]
    },
    {
      "cell_type": "markdown",
      "metadata": {
        "id": "JDQGOPQlb425"
      },
      "source": [
        "**De acuerdo a los datos brindados por INDEC, la población bajo la línea de pobreza para el periodo analizado fue de 39,2%, por lo que hay una diferencia de 2,3% con el valor obtenido.**\n"
      ]
    },
    {
      "cell_type": "markdown",
      "metadata": {
        "id": "DYmw5CMYZJPF"
      },
      "source": [
        "Hay 3.739 hogares que declararon ingresos $0, lo cual representa el 46% de los hogares pobres. En este sentido, generalmente estos hogares no se tienen en cuenta par este estudiocpero, dado el alto %, vamos a nalizar los hogares que han declarado este monto.\n",
        "\n",
        "**Consideramos que muchas veces, dado el alto descreimiento de la población en los entes gubernamentales, los encuestados pueden no querer declarar cuáles son sus ingresos.**\n"
      ]
    },
    {
      "cell_type": "code",
      "source": [
        "#analizamos la categoría de inactividad\n",
        "\"\"\"\n",
        "CAT_INAC\n",
        "1 = Jubilado / Pensionado\n",
        "2 = Rentista\n",
        "3 = Estudiante\n",
        "4 = Ama de casa\n",
        "5 = Menor de 6 años\n",
        "6 = Discapacitado\n",
        "7 = Otros\"\"\"\n",
        "\n",
        "df_dataset_sin0ingresos['CAT_INAC'].value_counts()"
      ],
      "metadata": {
        "colab": {
          "base_uri": "https://localhost:8080/"
        },
        "id": "mW_dPdWelB9C",
        "outputId": "8c0fa93f-a7c2-4069-f9d0-055478f15f65"
      },
      "execution_count": null,
      "outputs": [
        {
          "output_type": "execute_result",
          "data": {
            "text/plain": [
              "0    8383\n",
              "1    3793\n",
              "4     549\n",
              "3     195\n",
              "7      42\n",
              "2      33\n",
              "6       6\n",
              "Name: CAT_INAC, dtype: int64"
            ]
          },
          "metadata": {},
          "execution_count": 33
        }
      ]
    },
    {
      "cell_type": "code",
      "source": [
        "#analizamos la categoría de ocupación\n",
        "\"\"\"\n",
        "CAT_OCUP\n",
        "1 = Patrón\n",
        "2 = Cuenta propia\n",
        "3 = Obrero o empleado\n",
        "4 = Trabajador familiar sin remuneración\n",
        "9 = Ns./Nr\"\"\"\n",
        "\n",
        "df_dataset_sin0ingresos['CAT_OCUP'].value_counts()\n"
      ],
      "metadata": {
        "colab": {
          "base_uri": "https://localhost:8080/"
        },
        "id": "-ilDqPhMknR-",
        "outputId": "db876262-5a4f-4642-e847-07dc19fc4450"
      },
      "execution_count": null,
      "outputs": [
        {
          "output_type": "execute_result",
          "data": {
            "text/plain": [
              "3    6194\n",
              "0    4648\n",
              "2    1835\n",
              "1     308\n",
              "4      15\n",
              "9       1\n",
              "Name: CAT_OCUP, dtype: int64"
            ]
          },
          "metadata": {},
          "execution_count": 32
        }
      ]
    },
    {
      "cell_type": "code",
      "execution_count": null,
      "metadata": {
        "id": "vCWBq9wJJvsb"
      },
      "outputs": [],
      "source": [
        "#guardamos el dataset sin ingresos 0\n",
        "df_dataset_sin0ingresos.to_csv('dataset2.csv')"
      ]
    },
    {
      "cell_type": "markdown",
      "metadata": {
        "id": "-nyYMpvYc0yC"
      },
      "source": [
        "#tomamos el dataset completo y analizamos la cobertura médica del jefe/a de hogar de los hogares que declararon ingresos $0\n",
        "\n",
        "\n"
      ]
    },
    {
      "cell_type": "code",
      "source": [
        "new_df = df_dataset[df_dataset['ITF'] == 0]"
      ],
      "metadata": {
        "id": "Plrv9Wl1-O-y"
      },
      "execution_count": null,
      "outputs": []
    },
    {
      "cell_type": "code",
      "execution_count": null,
      "metadata": {
        "colab": {
          "base_uri": "https://localhost:8080/"
        },
        "id": "oNsUlDlzeRLF",
        "outputId": "14671be1-a8ec-40fd-8314-df10af3ebc57"
      },
      "outputs": [
        {
          "output_type": "execute_result",
          "data": {
            "text/plain": [
              "1     2703\n",
              "4      719\n",
              "2      165\n",
              "12     126\n",
              "3       24\n",
              "9        2\n",
              "Name: cob_medica, dtype: int64"
            ]
          },
          "metadata": {},
          "execution_count": 253
        }
      ],
      "source": [
        "#vemos la cobretura médica de este grupo\n",
        "\"\"\"\n",
        "1 = Obra social (incluye PAMI)\n",
        "2 = Mutual / Prepaga / Servicio de emergencia\n",
        "3 = Planes y seguros públicos\n",
        "4 = No paga ni le descuentan\n",
        "9 = Ns./Nr.\n",
        "12 = Obra social y mutual / prepaga / servicio de emergencia.\n",
        "13 = Obra social y Planes y Seguros Públicos\n",
        "23 = Mutual /prepaga / servicio de emergencia / Planes\n",
        " y Seguros Públicos\n",
        "123 = Obra social, mutual / prepaga / servicio de emergencia y\n",
        "Planes y Seguros Públicos\n",
        "\"\"\"\n",
        "\n",
        "new_df['cob_medica'].value_counts()"
      ]
    },
    {
      "cell_type": "code",
      "execution_count": null,
      "metadata": {
        "colab": {
          "base_uri": "https://localhost:8080/"
        },
        "id": "-NYYiamSpUNL",
        "outputId": "bfdebb2e-b4f8-4b61-a74a-5afd3db14ffa"
      },
      "outputs": [
        {
          "output_type": "execute_result",
          "data": {
            "text/plain": [
              "6    1046\n",
              "4     919\n",
              "2     645\n",
              "3     485\n",
              "5     428\n",
              "1     194\n",
              "7      22\n",
              "Name: NIVEL_ED, dtype: int64"
            ]
          },
          "metadata": {},
          "execution_count": 254
        }
      ],
      "source": [
        "#vemos el nivel educativo del jefe/a de hogar de este grupo que declara ingresos 0\n",
        "\"\"\"\n",
        "NIVEL EDUCATIVO\n",
        "1 = Primaria Incompleta (incluye educación especial)\n",
        "2 = Primaria Completa\n",
        "3 = Secundaria Incompleta\n",
        "4 = Secundaria Completa\n",
        "5 = Superior Universitaria Incompleta\n",
        "6 = Superior Universitaria Completa\n",
        "7 = Sin instrucción\n",
        "9 = Ns./ Nr.\n",
        "\"\"\"\n",
        "\n",
        "new_df['NIVEL_ED'].value_counts()"
      ]
    },
    {
      "cell_type": "code",
      "execution_count": null,
      "metadata": {
        "colab": {
          "base_uri": "https://localhost:8080/"
        },
        "id": "5-KZt8pwn5yl",
        "outputId": "f21eed2e-a544-432c-8cb4-41b50a211e70"
      },
      "outputs": [
        {
          "output_type": "execute_result",
          "data": {
            "text/plain": [
              "1     867\n",
              "2      67\n",
              "12     62\n",
              "4      47\n",
              "3       3\n",
              "Name: cob_medica, dtype: int64"
            ]
          },
          "metadata": {},
          "execution_count": 255
        }
      ],
      "source": [
        "#analizamos el nivel educativo de las personas que no declaran ingresos y tienen Nivel de Estudios Superior Universitaria Completa\n",
        "filtered_df = df_dataset[(df_dataset['ITF'] == 0) & (df_dataset['NIVEL_ED'] == 6)]\n",
        "filtered_df['cob_medica'].value_counts()\n"
      ]
    },
    {
      "cell_type": "code",
      "execution_count": null,
      "metadata": {
        "colab": {
          "base_uri": "https://localhost:8080/"
        },
        "id": "JozbbF7jJWyA",
        "outputId": "8f7188de-79e3-4484-cda0-f3722888da98"
      },
      "outputs": [
        {
          "output_type": "execute_result",
          "data": {
            "text/plain": [
              "1     304\n",
              "4      66\n",
              "2      36\n",
              "12     18\n",
              "3       3\n",
              "9       1\n",
              "Name: cob_medica, dtype: int64"
            ]
          },
          "metadata": {},
          "execution_count": 256
        }
      ],
      "source": [
        "#analizamos el nivel educativo de las personas que no declaran ingresos y tienen Nivel de Estudios Superior Universitaria Incompleta\n",
        "filtered_df = df_dataset[(df_dataset['ITF'] == 0) & (df_dataset['NIVEL_ED'] == 5)]\n",
        "filtered_df['cob_medica'].value_counts()"
      ]
    },
    {
      "cell_type": "markdown",
      "metadata": {
        "id": "ogDBOlJ7KC2b"
      },
      "source": [
        "==============================================================\n",
        "\n",
        "**analizamos el nuevo dataset (sin hogares que con $0 ingresos)**\n"
      ]
    },
    {
      "cell_type": "code",
      "source": [
        "df_dataset2 = pd.read_csv(\"dataset2.csv\")"
      ],
      "metadata": {
        "id": "SRt6hx3r_QYM"
      },
      "execution_count": null,
      "outputs": []
    },
    {
      "cell_type": "code",
      "source": [
        "df_dataset2 = df_dataset2.drop(['Unnamed: 0'], axis=1)"
      ],
      "metadata": {
        "id": "bEUsRSSv_qtU"
      },
      "execution_count": null,
      "outputs": []
    },
    {
      "cell_type": "code",
      "execution_count": null,
      "metadata": {
        "colab": {
          "base_uri": "https://localhost:8080/"
        },
        "id": "wf5zJlTaNTZm",
        "outputId": "d55f9d6a-8ff5-4527-bc9d-42283f8e3181"
      },
      "outputs": [
        {
          "output_type": "stream",
          "name": "stdout",
          "text": [
            "<class 'pandas.core.frame.DataFrame'>\n",
            "RangeIndex: 13001 entries, 0 to 13000\n",
            "Data columns (total 63 columns):\n",
            " #   Column                    Non-Null Count  Dtype  \n",
            "---  ------                    --------------  -----  \n",
            " 0   CODUSU                    13001 non-null  object \n",
            " 1   NRO_HOGAR                 13001 non-null  int64  \n",
            " 2   AGLOMERADO                13001 non-null  int64  \n",
            " 3   IV1                       13001 non-null  int64  \n",
            " 4   IV1_ESP                   34 non-null     object \n",
            " 5   IV2                       13001 non-null  int64  \n",
            " 6   IV3                       13001 non-null  int64  \n",
            " 7   IV3_ESP                   18 non-null     object \n",
            " 8   IV4                       13001 non-null  int64  \n",
            " 9   IV5                       13001 non-null  int64  \n",
            " 10  IV6                       13001 non-null  int64  \n",
            " 11  IV7                       13001 non-null  int64  \n",
            " 12  IV7_ESP                   17 non-null     object \n",
            " 13  IV8                       13001 non-null  int64  \n",
            " 14  IV9                       13001 non-null  int64  \n",
            " 15  IV10                      13001 non-null  int64  \n",
            " 16  IV11                      13001 non-null  int64  \n",
            " 17  IV12_1                    13001 non-null  int64  \n",
            " 18  IV12_2                    13001 non-null  int64  \n",
            " 19  IV12_3                    13001 non-null  int64  \n",
            " 20  II1                       13001 non-null  int64  \n",
            " 21  II2                       13001 non-null  int64  \n",
            " 22  II3                       13001 non-null  int64  \n",
            " 23  II3_1                     13001 non-null  int64  \n",
            " 24  II4_1                     13001 non-null  int64  \n",
            " 25  II4_2                     13001 non-null  int64  \n",
            " 26  II4_3                     13001 non-null  int64  \n",
            " 27  II5                       13001 non-null  int64  \n",
            " 28  II5_1                     13001 non-null  int64  \n",
            " 29  II6                       13001 non-null  int64  \n",
            " 30  II6_1                     13001 non-null  int64  \n",
            " 31  II7                       13001 non-null  int64  \n",
            " 32  II7_ESP                   21 non-null     object \n",
            " 33  II8                       13001 non-null  int64  \n",
            " 34  II8_ESP                   120 non-null    object \n",
            " 35  II9                       13001 non-null  int64  \n",
            " 36  Ingresos_Trabajo          13001 non-null  int64  \n",
            " 37  Ingresos_Jub_Pen          13001 non-null  int64  \n",
            " 38  Ingresos_Subs_AyudaScial  13001 non-null  int64  \n",
            " 39  Ingresos_PrestConocidos   13001 non-null  int64  \n",
            " 40  Ingresos_Fiado_Cuotas     13001 non-null  int64  \n",
            " 41  IX_TOT                    13001 non-null  int64  \n",
            " 42  IX_MEN10                  13001 non-null  int64  \n",
            " 43  IX_MAYEQ10                13001 non-null  int64  \n",
            " 44  ITF                       13001 non-null  int64  \n",
            " 45  IPCF                      13001 non-null  float64\n",
            " 46  VII1_1                    13001 non-null  int64  \n",
            " 47  VII1_2                    13001 non-null  int64  \n",
            " 48  VII2_1                    13001 non-null  int64  \n",
            " 49  VII2_2                    13001 non-null  int64  \n",
            " 50  VII2_3                    13001 non-null  int64  \n",
            " 51  VII2_4                    13001 non-null  int64  \n",
            " 52  parentesco                13001 non-null  int64  \n",
            " 53  genero                    13001 non-null  int64  \n",
            " 54  edad                      13001 non-null  int64  \n",
            " 55  cob_medica                13001 non-null  int64  \n",
            " 56  NIVEL_ED                  13001 non-null  int64  \n",
            " 57  CAT_OCUP                  13001 non-null  int64  \n",
            " 58  CAT_INAC                  13001 non-null  int64  \n",
            " 59  AE_ctrol_ind_sum          13001 non-null  float64\n",
            " 60  adulto_equivalente        13001 non-null  float64\n",
            " 61  pobreza                   13001 non-null  int64  \n",
            " 62  otrasFuentesIngresos      13001 non-null  int64  \n",
            "dtypes: float64(3), int64(54), object(6)\n",
            "memory usage: 6.2+ MB\n"
          ]
        }
      ],
      "source": [
        "df_dataset2.info()"
      ]
    },
    {
      "cell_type": "code",
      "execution_count": null,
      "metadata": {
        "colab": {
          "base_uri": "https://localhost:8080/"
        },
        "id": "K5JZu3z_o_a8",
        "outputId": "b435dec2-33c4-4c73-b8d7-e43b64a664da"
      },
      "outputs": [
        {
          "output_type": "execute_result",
          "data": {
            "text/plain": [
              "(13001, 63)"
            ]
          },
          "metadata": {},
          "execution_count": 38
        }
      ],
      "source": [
        "df_dataset2.shape"
      ]
    },
    {
      "cell_type": "code",
      "execution_count": null,
      "metadata": {
        "id": "w8k683cBiSpD"
      },
      "outputs": [],
      "source": [
        "#df_dataset.sort_values(by=['adulto_equivalente'])"
      ]
    },
    {
      "cell_type": "markdown",
      "metadata": {
        "id": "iEmXZxh0XD_X"
      },
      "source": [
        "**Variables numéricas**"
      ]
    },
    {
      "cell_type": "code",
      "execution_count": null,
      "metadata": {
        "id": "Fjefgssqxv2M"
      },
      "outputs": [],
      "source": [
        "pd.set_option('display.max_columns', 100)"
      ]
    },
    {
      "cell_type": "code",
      "execution_count": null,
      "metadata": {
        "colab": {
          "base_uri": "https://localhost:8080/"
        },
        "id": "DOJ_av8pXu-U",
        "outputId": "a2f84ec2-5211-4759-db89-90325b8a7077"
      },
      "outputs": [
        {
          "output_type": "stream",
          "name": "stdout",
          "text": [
            "       NRO_HOGAR  AGLOMERADO      IV1      IV2      IV3      IV4      IV5  \\\n",
            "count    13001.0     13001.0  13001.0  13001.0  13001.0  13001.0  13001.0   \n",
            "mean         1.0        24.0      1.0      3.0      1.0      3.0      1.0   \n",
            "std          2.0        19.0      1.0      2.0      0.0      2.0      0.0   \n",
            "min          1.0         2.0      1.0      1.0      1.0      1.0      1.0   \n",
            "25%          1.0        12.0      1.0      2.0      1.0      1.0      1.0   \n",
            "50%          1.0        22.0      1.0      3.0      1.0      2.0      1.0   \n",
            "75%          1.0        32.0      1.0      4.0      1.0      4.0      1.0   \n",
            "max         71.0        93.0      6.0     99.0      4.0      9.0      2.0   \n",
            "\n",
            "           IV6      IV7      IV8      IV9     IV10     IV11   IV12_1   IV12_2  \\\n",
            "count  13001.0  13001.0  13001.0  13001.0  13001.0  13001.0  13001.0  13001.0   \n",
            "mean       1.0      1.0      1.0      1.0      1.0      1.0      2.0      2.0   \n",
            "std        0.0      0.0      0.0      0.0      0.0      1.0      0.0      0.0   \n",
            "min        1.0      1.0      1.0      0.0      0.0      0.0      1.0      1.0   \n",
            "25%        1.0      1.0      1.0      1.0      1.0      1.0      2.0      2.0   \n",
            "50%        1.0      1.0      1.0      1.0      1.0      1.0      2.0      2.0   \n",
            "75%        1.0      1.0      1.0      1.0      1.0      1.0      2.0      2.0   \n",
            "max        3.0      4.0      2.0      3.0      3.0      4.0      2.0      2.0   \n",
            "\n",
            "        IV12_3      II1      II2      II3    II3_1    II4_1    II4_2    II4_3  \\\n",
            "count  13001.0  13001.0  13001.0  13001.0  13001.0  13001.0  13001.0  13001.0   \n",
            "mean       2.0      3.0      2.0      2.0      0.0      1.0      2.0      2.0   \n",
            "std        0.0      2.0      1.0      0.0      0.0      0.0      0.0      0.0   \n",
            "min        1.0      0.0      0.0      0.0      0.0      0.0      0.0      0.0   \n",
            "25%        2.0      2.0      1.0      2.0      0.0      1.0      1.0      1.0   \n",
            "50%        2.0      3.0      2.0      2.0      0.0      1.0      2.0      2.0   \n",
            "75%        2.0      4.0      2.0      2.0      0.0      1.0      2.0      2.0   \n",
            "max        2.0     99.0      8.0      2.0      6.0      2.0      2.0      2.0   \n",
            "\n",
            "           II5    II5_1      II6    II6_1      II7      II8      II9  \\\n",
            "count  13001.0  13001.0  13001.0  13001.0  13001.0  13001.0  13001.0   \n",
            "mean       2.0      0.0      2.0      0.0      2.0      1.0      1.0   \n",
            "std        1.0      0.0      1.0      0.0      2.0      1.0      0.0   \n",
            "min        0.0      0.0      0.0      0.0      0.0      0.0      0.0   \n",
            "25%        2.0      0.0      2.0      0.0      1.0      1.0      1.0   \n",
            "50%        2.0      0.0      2.0      0.0      1.0      1.0      1.0   \n",
            "75%        2.0      0.0      2.0      0.0      3.0      2.0      1.0   \n",
            "max        2.0      2.0      2.0      2.0      9.0      4.0      4.0   \n",
            "\n",
            "       Ingresos_Trabajo  Ingresos_Jub_Pen  Ingresos_Subs_AyudaScial  \\\n",
            "count           13001.0           13001.0                   13001.0   \n",
            "mean                1.0               2.0                       2.0   \n",
            "std                 0.0               0.0                       0.0   \n",
            "min                 1.0               1.0                       1.0   \n",
            "25%                 1.0               1.0                       2.0   \n",
            "50%                 1.0               2.0                       2.0   \n",
            "75%                 1.0               2.0                       2.0   \n",
            "max                 2.0               2.0                       2.0   \n",
            "\n",
            "       Ingresos_PrestConocidos  Ingresos_Fiado_Cuotas   IX_TOT  IX_MEN10  \\\n",
            "count                  13001.0                13001.0  13001.0   13001.0   \n",
            "mean                       2.0                    1.0      3.0       0.0   \n",
            "std                        0.0                    0.0      2.0       1.0   \n",
            "min                        1.0                    1.0      1.0       0.0   \n",
            "25%                        1.0                    1.0      2.0       0.0   \n",
            "50%                        2.0                    1.0      3.0       0.0   \n",
            "75%                        2.0                    2.0      4.0       1.0   \n",
            "max                        2.0                    2.0     14.0       7.0   \n",
            "\n",
            "       IX_MAYEQ10        ITF       IPCF   VII1_1   VII1_2   VII2_1   VII2_2  \\\n",
            "count     13001.0    13001.0    13001.0  13001.0  13001.0  13001.0  13001.0   \n",
            "mean          2.0   152471.0    65943.0      5.0      1.0     70.0      0.0   \n",
            "std           1.0   124304.0    61189.0     17.0      2.0     43.0      3.0   \n",
            "min           1.0      400.0      250.0      1.0      0.0      1.0      0.0   \n",
            "25%           1.0    80000.0    31000.0      1.0      0.0      3.0      0.0   \n",
            "50%           2.0   120500.0    50000.0      1.0      0.0     98.0      0.0   \n",
            "75%           3.0   194000.0    80000.0      2.0      0.0     98.0      0.0   \n",
            "max          12.0  5300000.0  1766667.0     98.0     98.0     98.0     98.0   \n",
            "\n",
            "        VII2_3   VII2_4  parentesco   genero     edad  cob_medica  NIVEL_ED  \\\n",
            "count  13001.0  13001.0     13001.0  13001.0  13001.0     13001.0   13001.0   \n",
            "mean       0.0      0.0         1.0      1.0     52.0         2.0       4.0   \n",
            "std        1.0      0.0         0.0      0.0     17.0         2.0       2.0   \n",
            "min        0.0      0.0         1.0      1.0     17.0         1.0       1.0   \n",
            "25%        0.0      0.0         1.0      1.0     39.0         1.0       2.0   \n",
            "50%        0.0      0.0         1.0      1.0     51.0         1.0       4.0   \n",
            "75%        0.0      0.0         1.0      2.0     65.0         2.0       5.0   \n",
            "max       97.0      7.0         1.0      2.0    101.0        23.0       7.0   \n",
            "\n",
            "       CAT_OCUP  CAT_INAC  AE_ctrol_ind_sum  adulto_equivalente  pobreza  \\\n",
            "count   13001.0   13001.0           13001.0             13001.0  13001.0   \n",
            "mean        2.0       1.0               2.0             82121.0      0.0   \n",
            "std         1.0       1.0               1.0             75161.0      0.0   \n",
            "min         0.0       0.0               1.0               248.0      0.0   \n",
            "25%         0.0       0.0               1.0             39149.0      0.0   \n",
            "50%         2.0       0.0               2.0             62687.0      0.0   \n",
            "75%         3.0       1.0               3.0            100709.0      1.0   \n",
            "max         9.0       7.0              12.0           2199170.0      1.0   \n",
            "\n",
            "       otrasFuentesIngresos  \n",
            "count               13001.0  \n",
            "mean                    2.0  \n",
            "std                     0.0  \n",
            "min                     1.0  \n",
            "25%                     1.0  \n",
            "50%                     2.0  \n",
            "75%                     2.0  \n",
            "max                     2.0   2\n"
          ]
        }
      ],
      "source": [
        "#Analizamos las variables numéricas\n",
        "\n",
        "numerical = [var for var in df_dataset2.columns if df_dataset2[var].dtype!='O']\n",
        "# view summary statistics in numerical variables\n",
        "print(round(df_dataset2[numerical].describe()),2)\n"
      ]
    },
    {
      "cell_type": "code",
      "execution_count": null,
      "metadata": {
        "colab": {
          "base_uri": "https://localhost:8080/",
          "height": 145
        },
        "id": "xdtM926vsPf9",
        "outputId": "90d72c5e-2354-4a2a-9c42-5ae9d1d8df4c"
      },
      "outputs": [
        {
          "output_type": "execute_result",
          "data": {
            "text/plain": [
              "   NRO_HOGAR  AGLOMERADO  IV1  IV2  IV3  IV4  IV5  IV6  IV7  IV8  IV9  IV10  \\\n",
              "0          1          33    1    3    1    4    1    1    1    1    1     1   \n",
              "\n",
              "   IV11  IV12_1  IV12_2  IV12_3  II1  II2  II3  II3_1  II4_1  II4_2  II4_3  \\\n",
              "0     1       2       2       2    3    1    2      0      1      2      2   \n",
              "\n",
              "   II5  II5_1  II6  II6_1  II7  II8  II9  Ingresos_Trabajo  Ingresos_Jub_Pen  \\\n",
              "0    2      0    2      0    1    1    1                 1                 2   \n",
              "\n",
              "   Ingresos_Subs_AyudaScial  Ingresos_PrestConocidos  Ingresos_Fiado_Cuotas  \\\n",
              "0                         2                        2                      1   \n",
              "\n",
              "   IX_TOT  IX_MEN10  IX_MAYEQ10     ITF     IPCF  VII1_1  VII1_2  VII2_1  \\\n",
              "0       2         0           2  100000  50000.0       1       0      98   \n",
              "\n",
              "   VII2_2  VII2_3  VII2_4  parentesco  genero  edad  cob_medica  NIVEL_ED  \\\n",
              "0       0       0       0           1       1    45           1         4   \n",
              "\n",
              "   CAT_OCUP  CAT_INAC  AE_ctrol_ind_sum  adulto_equivalente  pobreza  \\\n",
              "0         3         0               1.0            100000.0        0   \n",
              "\n",
              "   otrasFuentesIngresos  \n",
              "0                     2  "
            ],
            "text/html": [
              "\n",
              "  <div id=\"df-c54435f0-1f06-4505-8e03-340ef538dd28\">\n",
              "    <div class=\"colab-df-container\">\n",
              "      <div>\n",
              "<style scoped>\n",
              "    .dataframe tbody tr th:only-of-type {\n",
              "        vertical-align: middle;\n",
              "    }\n",
              "\n",
              "    .dataframe tbody tr th {\n",
              "        vertical-align: top;\n",
              "    }\n",
              "\n",
              "    .dataframe thead th {\n",
              "        text-align: right;\n",
              "    }\n",
              "</style>\n",
              "<table border=\"1\" class=\"dataframe\">\n",
              "  <thead>\n",
              "    <tr style=\"text-align: right;\">\n",
              "      <th></th>\n",
              "      <th>NRO_HOGAR</th>\n",
              "      <th>AGLOMERADO</th>\n",
              "      <th>IV1</th>\n",
              "      <th>IV2</th>\n",
              "      <th>IV3</th>\n",
              "      <th>IV4</th>\n",
              "      <th>IV5</th>\n",
              "      <th>IV6</th>\n",
              "      <th>IV7</th>\n",
              "      <th>IV8</th>\n",
              "      <th>IV9</th>\n",
              "      <th>IV10</th>\n",
              "      <th>IV11</th>\n",
              "      <th>IV12_1</th>\n",
              "      <th>IV12_2</th>\n",
              "      <th>IV12_3</th>\n",
              "      <th>II1</th>\n",
              "      <th>II2</th>\n",
              "      <th>II3</th>\n",
              "      <th>II3_1</th>\n",
              "      <th>II4_1</th>\n",
              "      <th>II4_2</th>\n",
              "      <th>II4_3</th>\n",
              "      <th>II5</th>\n",
              "      <th>II5_1</th>\n",
              "      <th>II6</th>\n",
              "      <th>II6_1</th>\n",
              "      <th>II7</th>\n",
              "      <th>II8</th>\n",
              "      <th>II9</th>\n",
              "      <th>Ingresos_Trabajo</th>\n",
              "      <th>Ingresos_Jub_Pen</th>\n",
              "      <th>Ingresos_Subs_AyudaScial</th>\n",
              "      <th>Ingresos_PrestConocidos</th>\n",
              "      <th>Ingresos_Fiado_Cuotas</th>\n",
              "      <th>IX_TOT</th>\n",
              "      <th>IX_MEN10</th>\n",
              "      <th>IX_MAYEQ10</th>\n",
              "      <th>ITF</th>\n",
              "      <th>IPCF</th>\n",
              "      <th>VII1_1</th>\n",
              "      <th>VII1_2</th>\n",
              "      <th>VII2_1</th>\n",
              "      <th>VII2_2</th>\n",
              "      <th>VII2_3</th>\n",
              "      <th>VII2_4</th>\n",
              "      <th>parentesco</th>\n",
              "      <th>genero</th>\n",
              "      <th>edad</th>\n",
              "      <th>cob_medica</th>\n",
              "      <th>NIVEL_ED</th>\n",
              "      <th>CAT_OCUP</th>\n",
              "      <th>CAT_INAC</th>\n",
              "      <th>AE_ctrol_ind_sum</th>\n",
              "      <th>adulto_equivalente</th>\n",
              "      <th>pobreza</th>\n",
              "      <th>otrasFuentesIngresos</th>\n",
              "    </tr>\n",
              "  </thead>\n",
              "  <tbody>\n",
              "    <tr>\n",
              "      <th>0</th>\n",
              "      <td>1</td>\n",
              "      <td>33</td>\n",
              "      <td>1</td>\n",
              "      <td>3</td>\n",
              "      <td>1</td>\n",
              "      <td>4</td>\n",
              "      <td>1</td>\n",
              "      <td>1</td>\n",
              "      <td>1</td>\n",
              "      <td>1</td>\n",
              "      <td>1</td>\n",
              "      <td>1</td>\n",
              "      <td>1</td>\n",
              "      <td>2</td>\n",
              "      <td>2</td>\n",
              "      <td>2</td>\n",
              "      <td>3</td>\n",
              "      <td>1</td>\n",
              "      <td>2</td>\n",
              "      <td>0</td>\n",
              "      <td>1</td>\n",
              "      <td>2</td>\n",
              "      <td>2</td>\n",
              "      <td>2</td>\n",
              "      <td>0</td>\n",
              "      <td>2</td>\n",
              "      <td>0</td>\n",
              "      <td>1</td>\n",
              "      <td>1</td>\n",
              "      <td>1</td>\n",
              "      <td>1</td>\n",
              "      <td>2</td>\n",
              "      <td>2</td>\n",
              "      <td>2</td>\n",
              "      <td>1</td>\n",
              "      <td>2</td>\n",
              "      <td>0</td>\n",
              "      <td>2</td>\n",
              "      <td>100000</td>\n",
              "      <td>50000.0</td>\n",
              "      <td>1</td>\n",
              "      <td>0</td>\n",
              "      <td>98</td>\n",
              "      <td>0</td>\n",
              "      <td>0</td>\n",
              "      <td>0</td>\n",
              "      <td>1</td>\n",
              "      <td>1</td>\n",
              "      <td>45</td>\n",
              "      <td>1</td>\n",
              "      <td>4</td>\n",
              "      <td>3</td>\n",
              "      <td>0</td>\n",
              "      <td>1.0</td>\n",
              "      <td>100000.0</td>\n",
              "      <td>0</td>\n",
              "      <td>2</td>\n",
              "    </tr>\n",
              "  </tbody>\n",
              "</table>\n",
              "</div>\n",
              "      <button class=\"colab-df-convert\" onclick=\"convertToInteractive('df-c54435f0-1f06-4505-8e03-340ef538dd28')\"\n",
              "              title=\"Convert this dataframe to an interactive table.\"\n",
              "              style=\"display:none;\">\n",
              "        \n",
              "  <svg xmlns=\"http://www.w3.org/2000/svg\" height=\"24px\"viewBox=\"0 0 24 24\"\n",
              "       width=\"24px\">\n",
              "    <path d=\"M0 0h24v24H0V0z\" fill=\"none\"/>\n",
              "    <path d=\"M18.56 5.44l.94 2.06.94-2.06 2.06-.94-2.06-.94-.94-2.06-.94 2.06-2.06.94zm-11 1L8.5 8.5l.94-2.06 2.06-.94-2.06-.94L8.5 2.5l-.94 2.06-2.06.94zm10 10l.94 2.06.94-2.06 2.06-.94-2.06-.94-.94-2.06-.94 2.06-2.06.94z\"/><path d=\"M17.41 7.96l-1.37-1.37c-.4-.4-.92-.59-1.43-.59-.52 0-1.04.2-1.43.59L10.3 9.45l-7.72 7.72c-.78.78-.78 2.05 0 2.83L4 21.41c.39.39.9.59 1.41.59.51 0 1.02-.2 1.41-.59l7.78-7.78 2.81-2.81c.8-.78.8-2.07 0-2.86zM5.41 20L4 18.59l7.72-7.72 1.47 1.35L5.41 20z\"/>\n",
              "  </svg>\n",
              "      </button>\n",
              "      \n",
              "  <style>\n",
              "    .colab-df-container {\n",
              "      display:flex;\n",
              "      flex-wrap:wrap;\n",
              "      gap: 12px;\n",
              "    }\n",
              "\n",
              "    .colab-df-convert {\n",
              "      background-color: #E8F0FE;\n",
              "      border: none;\n",
              "      border-radius: 50%;\n",
              "      cursor: pointer;\n",
              "      display: none;\n",
              "      fill: #1967D2;\n",
              "      height: 32px;\n",
              "      padding: 0 0 0 0;\n",
              "      width: 32px;\n",
              "    }\n",
              "\n",
              "    .colab-df-convert:hover {\n",
              "      background-color: #E2EBFA;\n",
              "      box-shadow: 0px 1px 2px rgba(60, 64, 67, 0.3), 0px 1px 3px 1px rgba(60, 64, 67, 0.15);\n",
              "      fill: #174EA6;\n",
              "    }\n",
              "\n",
              "    [theme=dark] .colab-df-convert {\n",
              "      background-color: #3B4455;\n",
              "      fill: #D2E3FC;\n",
              "    }\n",
              "\n",
              "    [theme=dark] .colab-df-convert:hover {\n",
              "      background-color: #434B5C;\n",
              "      box-shadow: 0px 1px 3px 1px rgba(0, 0, 0, 0.15);\n",
              "      filter: drop-shadow(0px 1px 2px rgba(0, 0, 0, 0.3));\n",
              "      fill: #FFFFFF;\n",
              "    }\n",
              "  </style>\n",
              "\n",
              "      <script>\n",
              "        const buttonEl =\n",
              "          document.querySelector('#df-c54435f0-1f06-4505-8e03-340ef538dd28 button.colab-df-convert');\n",
              "        buttonEl.style.display =\n",
              "          google.colab.kernel.accessAllowed ? 'block' : 'none';\n",
              "\n",
              "        async function convertToInteractive(key) {\n",
              "          const element = document.querySelector('#df-c54435f0-1f06-4505-8e03-340ef538dd28');\n",
              "          const dataTable =\n",
              "            await google.colab.kernel.invokeFunction('convertToInteractive',\n",
              "                                                     [key], {});\n",
              "          if (!dataTable) return;\n",
              "\n",
              "          const docLinkHtml = 'Like what you see? Visit the ' +\n",
              "            '<a target=\"_blank\" href=https://colab.research.google.com/notebooks/data_table.ipynb>data table notebook</a>'\n",
              "            + ' to learn more about interactive tables.';\n",
              "          element.innerHTML = '';\n",
              "          dataTable['output_type'] = 'display_data';\n",
              "          await google.colab.output.renderOutput(dataTable, element);\n",
              "          const docLink = document.createElement('div');\n",
              "          docLink.innerHTML = docLinkHtml;\n",
              "          element.appendChild(docLink);\n",
              "        }\n",
              "      </script>\n",
              "    </div>\n",
              "  </div>\n",
              "  "
            ]
          },
          "metadata": {},
          "execution_count": 42
        }
      ],
      "source": [
        "#analizamos la moda\n",
        "\n",
        "df_dataset2[numerical].mode()"
      ]
    },
    {
      "cell_type": "markdown",
      "metadata": {
        "id": "RV2kfJsBWkor"
      },
      "source": [
        "**Outliers**"
      ]
    },
    {
      "cell_type": "code",
      "execution_count": null,
      "metadata": {
        "colab": {
          "base_uri": "https://localhost:8080/"
        },
        "id": "sYD56mk2Ta3K",
        "outputId": "abf2025e-9e29-4dbd-875b-a2d7fa64bb26"
      },
      "outputs": [
        {
          "output_type": "execute_result",
          "data": {
            "text/plain": [
              "3     4694\n",
              "2     3367\n",
              "4     2608\n",
              "1     1211\n",
              "5      783\n",
              "6      241\n",
              "7       61\n",
              "8       25\n",
              "99       6\n",
              "9        5\n",
              "Name: IV2, dtype: int64"
            ]
          },
          "metadata": {},
          "execution_count": 43
        }
      ],
      "source": [
        "#En análisis de las variables numéricas vimos que IV2 e II1 tienen un máximo que quizás esté fuera de rango\n",
        "\n",
        "#IV2 es la cantidad de habitaciones por hogar\n",
        "\n",
        "df_dataset2['IV2'].value_counts()"
      ]
    },
    {
      "cell_type": "code",
      "execution_count": null,
      "metadata": {
        "colab": {
          "base_uri": "https://localhost:8080/",
          "height": 469
        },
        "id": "Mder37yzYzHs",
        "outputId": "8d25eb21-ce39-492b-9bee-9e45367ce31b"
      },
      "outputs": [
        {
          "output_type": "execute_result",
          "data": {
            "text/plain": [
              "Text(0.5, 1.0, 'Boxplot de cantidad de ambientes por hogar')"
            ]
          },
          "metadata": {},
          "execution_count": 44
        },
        {
          "output_type": "display_data",
          "data": {
            "text/plain": [
              "<Figure size 640x480 with 1 Axes>"
            ],
            "image/png": "[encoded data removed]"
          },
          "metadata": {}
        }
      ],
      "source": [
        "plt.boxplot(df_dataset['IV2'])\n",
        "plt.ylabel(\"Cantidad de ambientes por hogar\")\n",
        "plt.title(\"Boxplot de cantidad de ambientes por hogar\")"
      ]
    },
    {
      "cell_type": "code",
      "execution_count": null,
      "metadata": {
        "id": "RT8haNcoZIjP"
      },
      "outputs": [],
      "source": [
        "#acotamos el rango de 1 a 10\n",
        "\n",
        "df_dataset2['IV2'] = df_dataset['IV2'].clip(lower=1,upper = 10)"
      ]
    },
    {
      "cell_type": "code",
      "execution_count": null,
      "metadata": {
        "colab": {
          "base_uri": "https://localhost:8080/"
        },
        "id": "o0YtrDubZiAU",
        "outputId": "410de73e-e860-4572-e59d-3ff4692a0aa6"
      },
      "outputs": [
        {
          "output_type": "execute_result",
          "data": {
            "text/plain": [
              "count    13001.000000\n",
              "mean         3.004307\n",
              "std          1.189692\n",
              "min          1.000000\n",
              "25%          2.000000\n",
              "50%          3.000000\n",
              "75%          4.000000\n",
              "max         10.000000\n",
              "Name: IV2, dtype: float64"
            ]
          },
          "metadata": {},
          "execution_count": 46
        }
      ],
      "source": [
        "df_dataset2['IV2'].describe()"
      ]
    },
    {
      "cell_type": "code",
      "execution_count": null,
      "metadata": {
        "colab": {
          "base_uri": "https://localhost:8080/"
        },
        "id": "4BI27tqWZpG9",
        "outputId": "12ba0ff9-2564-4fd0-e8d4-c34b3053a097"
      },
      "outputs": [
        {
          "output_type": "execute_result",
          "data": {
            "text/plain": [
              "3     4674\n",
              "2     3403\n",
              "4     2571\n",
              "1     1306\n",
              "5      737\n",
              "6      216\n",
              "7       52\n",
              "8       16\n",
              "0       15\n",
              "99       6\n",
              "9        5\n",
              "Name: II1, dtype: int64"
            ]
          },
          "metadata": {},
          "execution_count": 47
        }
      ],
      "source": [
        "#II1 es la cantidad de habitaciones que usan para dormir por hogar\n",
        "\n",
        "df_dataset2['II1'].value_counts()"
      ]
    },
    {
      "cell_type": "code",
      "execution_count": null,
      "metadata": {
        "colab": {
          "base_uri": "https://localhost:8080/",
          "height": 469
        },
        "id": "vd-XF476aHCl",
        "outputId": "7a7a7c8d-9d82-4ace-bb71-db5c6aa2eb21"
      },
      "outputs": [
        {
          "output_type": "execute_result",
          "data": {
            "text/plain": [
              "Text(0.5, 1.0, 'Boxplot de cantidad de ambientes que usan para dormir por hogar')"
            ]
          },
          "metadata": {},
          "execution_count": 48
        },
        {
          "output_type": "display_data",
          "data": {
            "text/plain": [
              "<Figure size 640x480 with 1 Axes>"
            ],
            "image/png": "[encoded data removed]"
          },
          "metadata": {}
        }
      ],
      "source": [
        "plt.boxplot(df_dataset2['II1'])\n",
        "plt.ylabel(\"Cantidad de ambientes que usan para dormir por hogar\")\n",
        "plt.title(\"Boxplot de cantidad de ambientes que usan para dormir por hogar\")"
      ]
    },
    {
      "cell_type": "code",
      "execution_count": null,
      "metadata": {
        "id": "rXcY_bxBbF4g"
      },
      "outputs": [],
      "source": [
        "#acotamos el rango de 1 a 10\n",
        "\n",
        "df_dataset2['II1'] = df_dataset['II1'].clip(lower=1,upper = 10)"
      ]
    },
    {
      "cell_type": "code",
      "execution_count": null,
      "metadata": {
        "colab": {
          "base_uri": "https://localhost:8080/"
        },
        "id": "Ianks1n0bM53",
        "outputId": "ea324709-6cb7-4e00-cd02-e968d95a99dd"
      },
      "outputs": [
        {
          "output_type": "execute_result",
          "data": {
            "text/plain": [
              "count    13001.000000\n",
              "mean         2.967541\n",
              "std          1.178079\n",
              "min          1.000000\n",
              "25%          2.000000\n",
              "50%          3.000000\n",
              "75%          4.000000\n",
              "max         10.000000\n",
              "Name: II1, dtype: float64"
            ]
          },
          "metadata": {},
          "execution_count": 50
        }
      ],
      "source": [
        "df_dataset2['II1'].describe()"
      ]
    },
    {
      "cell_type": "markdown",
      "metadata": {
        "id": "XNDEQUlsW3MQ"
      },
      "source": [
        "**Nulos**"
      ]
    },
    {
      "cell_type": "code",
      "execution_count": null,
      "metadata": {
        "id": "4XYqe1kE4k-7"
      },
      "outputs": [],
      "source": [
        "pd.set_option('display.max_rows', None)"
      ]
    },
    {
      "cell_type": "code",
      "execution_count": null,
      "metadata": {
        "id": "7Z4eH2RdyeHW"
      },
      "outputs": [],
      "source": [
        "nulos = df_dataset2.isnull().sum()"
      ]
    },
    {
      "cell_type": "code",
      "execution_count": null,
      "metadata": {
        "colab": {
          "base_uri": "https://localhost:8080/"
        },
        "id": "27vzYP0_lAQn",
        "outputId": "24e06d33-7027-4a06-c919-f9f280d46abd"
      },
      "outputs": [
        {
          "output_type": "execute_result",
          "data": {
            "text/plain": [
              "CODUSU                          0\n",
              "NRO_HOGAR                       0\n",
              "AGLOMERADO                      0\n",
              "IV1                             0\n",
              "IV1_ESP                     12967\n",
              "IV2                             0\n",
              "IV3                             0\n",
              "IV3_ESP                     12983\n",
              "IV4                             0\n",
              "IV5                             0\n",
              "IV6                             0\n",
              "IV7                             0\n",
              "IV7_ESP                     12984\n",
              "IV8                             0\n",
              "IV9                             0\n",
              "IV10                            0\n",
              "IV11                            0\n",
              "IV12_1                          0\n",
              "IV12_2                          0\n",
              "IV12_3                          0\n",
              "II1                             0\n",
              "II2                             0\n",
              "II3                             0\n",
              "II3_1                           0\n",
              "II4_1                           0\n",
              "II4_2                           0\n",
              "II4_3                           0\n",
              "II5                             0\n",
              "II5_1                           0\n",
              "II6                             0\n",
              "II6_1                           0\n",
              "II7                             0\n",
              "II7_ESP                     12980\n",
              "II8                             0\n",
              "II8_ESP                     12881\n",
              "II9                             0\n",
              "Ingresos_Trabajo                0\n",
              "Ingresos_Jub_Pen                0\n",
              "Ingresos_Subs_AyudaScial        0\n",
              "Ingresos_PrestConocidos         0\n",
              "Ingresos_Fiado_Cuotas           0\n",
              "IX_TOT                          0\n",
              "IX_MEN10                        0\n",
              "IX_MAYEQ10                      0\n",
              "ITF                             0\n",
              "IPCF                            0\n",
              "VII1_1                          0\n",
              "VII1_2                          0\n",
              "VII2_1                          0\n",
              "VII2_2                          0\n",
              "VII2_3                          0\n",
              "VII2_4                          0\n",
              "parentesco                      0\n",
              "genero                          0\n",
              "edad                            0\n",
              "cob_medica                      0\n",
              "NIVEL_ED                        0\n",
              "CAT_OCUP                        0\n",
              "CAT_INAC                        0\n",
              "AE_ctrol_ind_sum                0\n",
              "adulto_equivalente              0\n",
              "pobreza                         0\n",
              "otrasFuentesIngresos            0\n",
              "dtype: int64"
            ]
          },
          "metadata": {},
          "execution_count": 53
        }
      ],
      "source": [
        "nulos"
      ]
    },
    {
      "cell_type": "code",
      "execution_count": null,
      "metadata": {
        "colab": {
          "base_uri": "https://localhost:8080/"
        },
        "id": "Q_UTWEu8vold",
        "outputId": "e54d7736-c841-4dc3-9333-cf55b3b07899"
      },
      "outputs": [
        {
          "output_type": "execute_result",
          "data": {
            "text/plain": [
              "IV1_ESP     34\n",
              "IV3_ESP     18\n",
              "IV7_ESP     17\n",
              "II7_ESP     21\n",
              "II8_ESP    120\n",
              "dtype: int64"
            ]
          },
          "metadata": {},
          "execution_count": 166
        }
      ],
      "source": [
        "# vemos que las variables que tienen valores nulos son\n",
        "#IV1_ESP, IV3_ESP, IV7_ESP, II7_ESP, II8_ESP\n",
        "\n",
        "#analizamos la cantidad que hay en cada una de ellas\n",
        "\n",
        "df_dataset2[['IV1_ESP','IV3_ESP','IV7_ESP','II7_ESP','II8_ESP']].notnull().sum()\n"
      ]
    },
    {
      "cell_type": "code",
      "execution_count": null,
      "metadata": {
        "id": "tN-ULNdJ9ADp"
      },
      "outputs": [],
      "source": [
        "\"\"\"\n",
        "La variable IV3 identifica los pisos y va los valores desde el 1 al 4.\n",
        "Este último refiere a \"otro\" y en IV3_ESP se especifica la misma.\n",
        "\n",
        "La variable IV7 es la fuente del agua y va del 1 al 4.\n",
        "Este último refiere a \"otro\" y en IV_ESP se especifica la misma.\n",
        "\n",
        "a variable II7 es el régimen de tenencia de la propiedad y va del 1 al 9.\n",
        "Este último refiere a \"otro\" y en II7_ESP se especifica la misma.\n",
        "\"\"\"\n",
        "# dada la escasa cantidad de valores presentes en estas variables no las vamos a tener en cuenta en este estudio\n",
        "\n",
        "df_dataset2 = df_dataset2.drop(['IV3_ESP','IV7_ESP','II7_ESP'], axis=1)"
      ]
    },
    {
      "cell_type": "code",
      "execution_count": null,
      "metadata": {
        "colab": {
          "base_uri": "https://localhost:8080/"
        },
        "id": "ml6V4eI8Skly",
        "outputId": "01d7595b-5d06-4191-cff9-19bba39ee2d3"
      },
      "outputs": [
        {
          "output_type": "execute_result",
          "data": {
            "text/plain": [
              "(13001, 60)"
            ]
          },
          "metadata": {},
          "execution_count": 168
        }
      ],
      "source": [
        "df_dataset2.shape"
      ]
    },
    {
      "cell_type": "code",
      "source": [
        "\"\"\"\n",
        "La variable IV1 refiere al tipo de vivienda y tiene los valores desde el 1 al 6.\n",
        "Este último refiere a \"otro\" y en IV1_ESP se especifica la misma.\n",
        "\"\"\"\n",
        "\n",
        "# chequeamos cuántas veces aparece un valor en IV1\n",
        "\n",
        "df_dataset2['IV1'].value_counts()"
      ],
      "metadata": {
        "colab": {
          "base_uri": "https://localhost:8080/"
        },
        "id": "ePeA3moPVJ7f",
        "outputId": "cdd625b8-5253-4218-8d32-69bc94675d8b"
      },
      "execution_count": null,
      "outputs": [
        {
          "output_type": "execute_result",
          "data": {
            "text/plain": [
              "1    10209\n",
              "2     2693\n",
              "3       44\n",
              "6       34\n",
              "4       14\n",
              "5        7\n",
              "Name: IV1, dtype: int64"
            ]
          },
          "metadata": {},
          "execution_count": 169
        }
      ]
    },
    {
      "cell_type": "code",
      "source": [
        "df_dataset2['IV1_ESP'].value_counts()"
      ],
      "metadata": {
        "colab": {
          "base_uri": "https://localhost:8080/"
        },
        "id": "7Tz86euxVxID",
        "outputId": "81d99310-0c24-43ae-db17-78f7c114a00f"
      },
      "execution_count": null,
      "outputs": [
        {
          "output_type": "execute_result",
          "data": {
            "text/plain": [
              "casilla                13\n",
              "CASILLA                12\n",
              "CASILLA DE MADERA       4\n",
              "MONO AMBIENTE           2\n",
              "EN LUGAR DE TRABAJO     2\n",
              "no especifica           1\n",
              "Name: IV1_ESP, dtype: int64"
            ]
          },
          "metadata": {},
          "execution_count": 170
        }
      ]
    },
    {
      "cell_type": "code",
      "source": [
        "condiciones1 = [\n",
        "    (df_dataset2['IV1_ESP'] == 'casilla') | (df_dataset2['IV1_ESP'] == 'CASILLA') | (df_dataset2['IV1_ESP'] == 'CASILLA DE MADERA'),\n",
        "    (df_dataset2['IV1_ESP'] == 'MONO AMBIENTE'),\n",
        "    (df_dataset2['IV1_ESP'] == 'EN LUGAR DE TRABAJO'),\n",
        "    (df_dataset2['IV1_ESP'] == 'no especifica')\n",
        "     ]\n",
        "\n",
        "opciones1 = [7,2,5,6]"
      ],
      "metadata": {
        "id": "WX02qfw5WG1I"
      },
      "execution_count": null,
      "outputs": []
    },
    {
      "cell_type": "code",
      "source": [
        "df_dataset2['IV1_ESP']=np.select(condiciones1,opciones1)"
      ],
      "metadata": {
        "id": "8P8j4SEzW8b0"
      },
      "execution_count": null,
      "outputs": []
    },
    {
      "cell_type": "code",
      "source": [
        "df_dataset2['IV1_ESP'].value_counts()"
      ],
      "metadata": {
        "colab": {
          "base_uri": "https://localhost:8080/"
        },
        "id": "GV59Xmm8ZOlp",
        "outputId": "f5505c04-39d4-4f23-e63f-2eb7c04e8db7"
      },
      "execution_count": null,
      "outputs": [
        {
          "output_type": "execute_result",
          "data": {
            "text/plain": [
              "0    12967\n",
              "7       29\n",
              "2        2\n",
              "5        2\n",
              "6        1\n",
              "Name: IV1_ESP, dtype: int64"
            ]
          },
          "metadata": {},
          "execution_count": 173
        }
      ]
    },
    {
      "cell_type": "code",
      "source": [
        "condiciones1b = [\n",
        "    (df_dataset2['IV1'] == 1),\n",
        "    (df_dataset2['IV1'] == 2),\n",
        "    (df_dataset2['IV1'] == 3),\n",
        "    (df_dataset2['IV1'] == 4),\n",
        "    (df_dataset2['IV1'] == 5),\n",
        "    (df_dataset2['IV1'] == 6) & (df_dataset2['IV1_ESP'] == 7),\n",
        "    (df_dataset2['IV1'] == 6) & (df_dataset2['IV1_ESP'] == 2),\n",
        "    (df_dataset2['IV1'] == 6) & (df_dataset2['IV1_ESP'] == 5),\n",
        "    (df_dataset2['IV1'] == 6) & (df_dataset2['IV1_ESP'] == 6)\n",
        "     ]\n",
        "\n",
        "opciones1b = [1,2,3,4,5,7,2,5,6]"
      ],
      "metadata": {
        "id": "YMnxbWTqYw1z"
      },
      "execution_count": null,
      "outputs": []
    },
    {
      "cell_type": "code",
      "source": [
        "df_dataset2['IV1']=np.select(condiciones1b,opciones1b)"
      ],
      "metadata": {
        "id": "1xiEve-jZkdE"
      },
      "execution_count": null,
      "outputs": []
    },
    {
      "cell_type": "code",
      "source": [
        "# chequeamos cuántas veces aparece un valor en IV1\n",
        "\"\"\"Ahora los códigos son:\n",
        "1 = Casa\n",
        "2 = Departamento\n",
        "3 = Pieza de inquilinato\n",
        "4 = Pieza en hotel / pensión\n",
        "5 = Local no construido para habitación\n",
        "6 = Otros\n",
        "7 = Casilla\n",
        "\"\"\"\n",
        "\n",
        "df_dataset2['IV1'].value_counts()"
      ],
      "metadata": {
        "colab": {
          "base_uri": "https://localhost:8080/"
        },
        "id": "16BWYrIOW827",
        "outputId": "30f9cb68-0665-453d-d83a-5fb870feba4b"
      },
      "execution_count": null,
      "outputs": [
        {
          "output_type": "execute_result",
          "data": {
            "text/plain": [
              "1    10209\n",
              "2     2695\n",
              "3       44\n",
              "7       29\n",
              "4       14\n",
              "5        9\n",
              "6        1\n",
              "Name: IV1, dtype: int64"
            ]
          },
          "metadata": {},
          "execution_count": 176
        }
      ]
    },
    {
      "cell_type": "code",
      "source": [
        "# borramos la variable IV1_ESP\n",
        "\n",
        "df_dataset2 = df_dataset2.drop(['IV1_ESP'], axis=1)"
      ],
      "metadata": {
        "id": "P6pKYZXredEe"
      },
      "execution_count": null,
      "outputs": []
    },
    {
      "cell_type": "code",
      "execution_count": null,
      "metadata": {
        "colab": {
          "base_uri": "https://localhost:8080/"
        },
        "id": "eq5QsNTkixyZ",
        "outputId": "352eab25-efe2-4ce2-dfec-735faaad29ad"
      },
      "outputs": [
        {
          "output_type": "execute_result",
          "data": {
            "text/plain": [
              "1    8014\n",
              "2    4819\n",
              "4     120\n",
              "3      33\n",
              "0      15\n",
              "Name: II8, dtype: int64"
            ]
          },
          "metadata": {},
          "execution_count": 178
        }
      ],
      "source": [
        "\"\"\"\n",
        "La variable II8 es el combustible usado para cocina y va del 1 al 4.\n",
        "Este último refiere a \"otro\" y en II8_ESP se especifica la misma.\n",
        "\"\"\"\n",
        "# chequeamos cuántas veces aparece un valor en II8\n",
        "\n",
        "df_dataset2['II8'].value_counts()"
      ]
    },
    {
      "cell_type": "code",
      "execution_count": null,
      "metadata": {
        "colab": {
          "base_uri": "https://localhost:8080/"
        },
        "id": "E7_tgbtzpCzo",
        "outputId": "5300c711-41cf-468a-bf82-1fd207fc3a8c"
      },
      "outputs": [
        {
          "output_type": "execute_result",
          "data": {
            "text/plain": [
              "ELECTRICIDAD                                     35\n",
              "electricidad                                     32\n",
              "ELECTRICO                                        20\n",
              "electrico                                        10\n",
              "ELECTRICA                                         5\n",
              "COCINA ELECTRICA                                  3\n",
              "cocina electrica                                  1\n",
              "NO COCINA SU FAMILIA LE ALCANZA LA COMIDA O L     1\n",
              "electrica                                         1\n",
              "electricidad y gas de garrafa                     1\n",
              "electrico   anafe                                 1\n",
              "PIDE VIANDA                                       1\n",
              "lena                                              1\n",
              "NO COCINA PAGA PENSION                            1\n",
              "CALENTADOR ELECTRICO                              1\n",
              "NO COCINA                                         1\n",
              "utiliza la cocina de la madre                     1\n",
              "ninguno                                           1\n",
              "elctricidad                                       1\n",
              "zepelin                                           1\n",
              "especificar                                       1\n",
              "Name: II8_ESP, dtype: int64"
            ]
          },
          "metadata": {},
          "execution_count": 179
        }
      ],
      "source": [
        "df_dataset2['II8_ESP'].value_counts()"
      ]
    },
    {
      "cell_type": "code",
      "source": [
        "condiciones = [\n",
        "    (df_dataset2['II8_ESP'] == 'ELECTRICIDAD') | (df_dataset2['II8_ESP'] == 'electricidad') | (df_dataset2['II8_ESP'] == 'ELECTRICO'),\n",
        "     (df_dataset2['II8_ESP'] == 'ELECTRICA') | (df_dataset2['II8_ESP'] == 'COCINA ELECTRICA') | (df_dataset2['II8_ESP'] == 'electrico'),\n",
        "      (df_dataset2['II8_ESP'] == 'cocina electrica ') | (df_dataset2['II8_ESP'] == 'electricO') | (df_dataset2['II8_ESP'] == 'CALENTADOR ELECTRICO'),\n",
        "       (df_dataset2['II8_ESP'] == 'elctricidad') | (df_dataset2['II8_ESP'] == 'electico'),\n",
        "        (df_dataset2['II8_ESP'] == 'zepelin'),\n",
        "         (df_dataset2['II8_ESP'] == 'UTILIZAR GAS DE RED EN OTRA VIVIENDA') | (df_dataset2['II8_ESP'] == 'utiliza la cocina de la madre'),\n",
        "          (df_dataset2['II8_ESP'] == 'electricidad y gas de garrafa'),\n",
        "           (df_dataset2['II8_ESP'] == 'electrico   anafe'),\n",
        "            (df_dataset2['II8_ESP'] == 'lena'),\n",
        "             (df_dataset2['II8_ESP'] == 'NO COCINA PAGA PENSION') | (df_dataset2['II8_ESP'] == 'NO COCINA SU FAMILIA LE ALCANZA LA COMIDA O L') | (df_dataset2['II8_ESP'] == 'no sabe') | (df_dataset2['II8_ESP'] == 'ninguno') | (df_dataset2['II8_ESP'] == 'especificar') | (df_dataset2['II8_ESP'] == 'PIDE VIANDA'),\n",
        "     ]\n",
        "\n",
        "opciones = [5,5,5,5,4,1,2,5,4,4]"
      ],
      "metadata": {
        "id": "EMJixVPSBCn9"
      },
      "execution_count": null,
      "outputs": []
    },
    {
      "cell_type": "code",
      "source": [
        "df_dataset2['II8_ESP']=np.select(condiciones,opciones)"
      ],
      "metadata": {
        "id": "xgMBcL1oDFub"
      },
      "execution_count": null,
      "outputs": []
    },
    {
      "cell_type": "code",
      "source": [
        "df_dataset2['II8_ESP'].value_counts()"
      ],
      "metadata": {
        "colab": {
          "base_uri": "https://localhost:8080/"
        },
        "id": "6BFPVLkwDkb8",
        "outputId": "3e2f2f89-0d04-4458-c98b-a4096fbb2bfe"
      },
      "execution_count": null,
      "outputs": [
        {
          "output_type": "execute_result",
          "data": {
            "text/plain": [
              "0    12884\n",
              "5      108\n",
              "4        7\n",
              "1        1\n",
              "2        1\n",
              "Name: II8_ESP, dtype: int64"
            ]
          },
          "metadata": {},
          "execution_count": 182
        }
      ]
    },
    {
      "cell_type": "code",
      "source": [
        "condicionesb = [\n",
        "    (df_dataset2['II8'] == 0),\n",
        "    (df_dataset2['II8'] == 1),\n",
        "    (df_dataset2['II8'] == 2),\n",
        "    (df_dataset2['II8'] == 3),\n",
        "    (df_dataset2['II8'] == 4) & (df_dataset2['II8_ESP'] == 0),\n",
        "    (df_dataset2['II8'] == 4) & (df_dataset2['II8_ESP'] == 1),\n",
        "    (df_dataset2['II8'] == 4) & (df_dataset2['II8_ESP'] == 2),\n",
        "    (df_dataset2['II8'] == 4) & (df_dataset2['II8_ESP'] == 4),\n",
        "    (df_dataset2['II8'] == 4) & (df_dataset2['II8_ESP'] == 5)\n",
        "\n",
        "    ]\n",
        "\n",
        "opcionesb = [4,1,2,3,5,1,2,4,5]"
      ],
      "metadata": {
        "id": "Tn59IQCTEid8"
      },
      "execution_count": null,
      "outputs": []
    },
    {
      "cell_type": "code",
      "source": [
        "df_dataset2['II8']=np.select(condicionesb,opcionesb)"
      ],
      "metadata": {
        "id": "oE7XzLyDEqVA"
      },
      "execution_count": null,
      "outputs": []
    },
    {
      "cell_type": "code",
      "source": [
        "# chequeamos cuántas veces aparece un valor en II8\n",
        "\"\"\"Ahora los códigos son:\n",
        "1 = Gas de red\n",
        "2 = Gas de tubo / garrafa\n",
        "3 = Kerosene / leña/ carbón\n",
        "4 = Otros\n",
        "5 = Electricidad\n",
        "\"\"\"\n",
        "\n",
        "df_dataset2['II8'].value_counts()"
      ],
      "metadata": {
        "colab": {
          "base_uri": "https://localhost:8080/"
        },
        "id": "XSol8LeoDJoS",
        "outputId": "c3358cad-61e3-46de-ce8e-a6ba7b955c7e"
      },
      "execution_count": null,
      "outputs": [
        {
          "output_type": "execute_result",
          "data": {
            "text/plain": [
              "1    8015\n",
              "2    4820\n",
              "5     111\n",
              "3      33\n",
              "4      22\n",
              "Name: II8, dtype: int64"
            ]
          },
          "metadata": {},
          "execution_count": 185
        }
      ]
    },
    {
      "cell_type": "code",
      "execution_count": null,
      "metadata": {
        "id": "KUrD7mftpy0x"
      },
      "outputs": [],
      "source": [
        "# borramos la variable II8_ESP\n",
        "\n",
        "df_dataset2 = df_dataset2.drop(['II8_ESP'], axis=1)"
      ]
    },
    {
      "cell_type": "markdown",
      "metadata": {
        "id": "5hnnaqpfXIlr"
      },
      "source": [
        "**Columnas que tienen valores 0 (que no corresponde)**"
      ]
    },
    {
      "cell_type": "code",
      "execution_count": null,
      "metadata": {
        "colab": {
          "base_uri": "https://localhost:8080/"
        },
        "id": "lxFmw7CF1353",
        "outputId": "85529598-7828-45f0-f473-68116e8532a5"
      },
      "outputs": [
        {
          "output_type": "stream",
          "name": "stdout",
          "text": [
            "Hay 26 variables con mínimo cero\n",
            "\n",
            "Las variables con mínimo cero son: ['IV1', 'IV9', 'IV10', 'IV11', 'II1', 'II2', 'II3', 'II3_1', 'II4_1', 'II4_2', 'II4_3', 'II5', 'II5_1', 'II6', 'II6_1', 'II7', 'II8', 'II9', 'IX_MEN10', 'VII1_2', 'VII2_2', 'VII2_3', 'VII2_4', 'CAT_OCUP', 'CAT_INAC', 'pobreza']\n"
          ]
        }
      ],
      "source": [
        "# buscamos las variables que tienen como mínimo 0\n",
        "\n",
        "minimo_cero = [var for var in df_dataset2.columns if df_dataset2[var].min() == 0]\n",
        "\n",
        "print('Hay {} variables con mínimo cero\\n'.format(len(minimo_cero)))\n",
        "\n",
        "print('Las variables con mínimo cero son:', minimo_cero)"
      ]
    },
    {
      "cell_type": "code",
      "execution_count": null,
      "metadata": {
        "id": "9gVihF6g7RBX"
      },
      "outputs": [],
      "source": [
        "\"\"\"\n",
        "De éstas, las variables que no deberían tener valores = 0 son:\n",
        "'IV9', 'IV10', 'IV11'\n",
        "'II4_1', 'II4_2', 'II4_3'\n",
        "'II5'\n",
        "'II6'\n",
        "'II7', 'II8', 'II9'\n",
        "'CAT_OCUP' (en esta el 9 equivale a Ns/Nc)\n",
        "\"\"\"\n",
        "\n",
        "#cambiamos el 0 por 9 en CAT_OCUP\n",
        "\n",
        "df_dataset2['CAT_OCUP'] = df_dataset2['CAT_OCUP'].replace([0],9)\n"
      ]
    },
    {
      "cell_type": "code",
      "execution_count": null,
      "metadata": {
        "colab": {
          "base_uri": "https://localhost:8080/"
        },
        "id": "J2ehCzgxUbTw",
        "outputId": "e930b7fa-478e-4aec-e8b7-dfbf034a3562"
      },
      "outputs": [
        {
          "output_type": "execute_result",
          "data": {
            "text/plain": [
              "3    6194\n",
              "9    4649\n",
              "2    1835\n",
              "1     308\n",
              "4      15\n",
              "Name: CAT_OCUP, dtype: int64"
            ]
          },
          "metadata": {},
          "execution_count": 152
        }
      ],
      "source": [
        "df_dataset2['CAT_OCUP'].value_counts()"
      ]
    },
    {
      "cell_type": "code",
      "execution_count": null,
      "metadata": {
        "id": "O-zRiYE9UJEe"
      },
      "outputs": [],
      "source": [
        "# las seleccionamos (excepto CAT_OCUP)\n",
        "\n",
        "minimo_cero = df_dataset2[['CODUSU','NRO_HOGAR','IV9','IV10','IV11','II4_1','II4_2','II4_3','II5','II6','II7','II8','II9']]"
      ]
    },
    {
      "cell_type": "code",
      "execution_count": null,
      "metadata": {
        "colab": {
          "base_uri": "https://localhost:8080/"
        },
        "id": "cwF1hHfH6N9X",
        "outputId": "b010763c-bc56-47a3-99ae-dc6816411baf"
      },
      "outputs": [
        {
          "output_type": "execute_result",
          "data": {
            "text/plain": [
              "CODUSU         0\n",
              "NRO_HOGAR      0\n",
              "IV9           36\n",
              "IV10          36\n",
              "IV11          36\n",
              "II4_1         15\n",
              "II4_2         15\n",
              "II4_3         15\n",
              "II5          989\n",
              "II6          989\n",
              "II7           15\n",
              "II8           15\n",
              "II9           15\n",
              "dtype: int64"
            ]
          },
          "metadata": {},
          "execution_count": 154
        }
      ],
      "source": [
        "(minimo_cero==0).sum()"
      ]
    },
    {
      "cell_type": "code",
      "execution_count": null,
      "metadata": {
        "colab": {
          "base_uri": "https://localhost:8080/"
        },
        "id": "lPysRrxy-D1d",
        "outputId": "1b4cefc5-84f8-437f-da8c-1ddf1d2e2c95"
      },
      "outputs": [
        {
          "output_type": "execute_result",
          "data": {
            "text/plain": [
              "NRO_HOGAR    1.0\n",
              "IV9          1.0\n",
              "IV10         1.0\n",
              "IV11         1.0\n",
              "II4_1        1.0\n",
              "II4_2        2.0\n",
              "II4_3        2.0\n",
              "II5          2.0\n",
              "II6          2.0\n",
              "II7          1.0\n",
              "II8          1.0\n",
              "II9          1.0\n",
              "dtype: float64"
            ]
          },
          "metadata": {},
          "execution_count": 155
        }
      ],
      "source": [
        "minimo_cero.median()"
      ]
    },
    {
      "cell_type": "markdown",
      "metadata": {
        "id": "kbbBnL5pMjnZ"
      },
      "source": [
        "Vemos que hay filas con valores 0, los cuales vamos a cambiar por la mediana o la moda"
      ]
    },
    {
      "cell_type": "code",
      "execution_count": null,
      "metadata": {
        "colab": {
          "base_uri": "https://localhost:8080/",
          "height": 81
        },
        "id": "1SuAQ7Us-G5x",
        "outputId": "49172943-5e19-4959-a36d-2dc6b7be50e2"
      },
      "outputs": [
        {
          "output_type": "execute_result",
          "data": {
            "text/plain": [
              "                          CODUSU  NRO_HOGAR  IV9  IV10  IV11  II4_1  II4_2  \\\n",
              "0  TQRMNORSYHLNLTCDEHJGH00717147          1    1     1     1      1      2   \n",
              "\n",
              "   II4_3  II5  II6  II7  II8  II9  \n",
              "0      2    2    2    1    1    1  "
            ],
            "text/html": [
              "\n",
              "  <div id=\"df-3f2fe2dd-2aa5-4613-8fdf-0bce99c291a5\">\n",
              "    <div class=\"colab-df-container\">\n",
              "      <div>\n",
              "<style scoped>\n",
              "    .dataframe tbody tr th:only-of-type {\n",
              "        vertical-align: middle;\n",
              "    }\n",
              "\n",
              "    .dataframe tbody tr th {\n",
              "        vertical-align: top;\n",
              "    }\n",
              "\n",
              "    .dataframe thead th {\n",
              "        text-align: right;\n",
              "    }\n",
              "</style>\n",
              "<table border=\"1\" class=\"dataframe\">\n",
              "  <thead>\n",
              "    <tr style=\"text-align: right;\">\n",
              "      <th></th>\n",
              "      <th>CODUSU</th>\n",
              "      <th>NRO_HOGAR</th>\n",
              "      <th>IV9</th>\n",
              "      <th>IV10</th>\n",
              "      <th>IV11</th>\n",
              "      <th>II4_1</th>\n",
              "      <th>II4_2</th>\n",
              "      <th>II4_3</th>\n",
              "      <th>II5</th>\n",
              "      <th>II6</th>\n",
              "      <th>II7</th>\n",
              "      <th>II8</th>\n",
              "      <th>II9</th>\n",
              "    </tr>\n",
              "  </thead>\n",
              "  <tbody>\n",
              "    <tr>\n",
              "      <th>0</th>\n",
              "      <td>TQRMNORSYHLNLTCDEHJGH00717147</td>\n",
              "      <td>1</td>\n",
              "      <td>1</td>\n",
              "      <td>1</td>\n",
              "      <td>1</td>\n",
              "      <td>1</td>\n",
              "      <td>2</td>\n",
              "      <td>2</td>\n",
              "      <td>2</td>\n",
              "      <td>2</td>\n",
              "      <td>1</td>\n",
              "      <td>1</td>\n",
              "      <td>1</td>\n",
              "    </tr>\n",
              "  </tbody>\n",
              "</table>\n",
              "</div>\n",
              "      <button class=\"colab-df-convert\" onclick=\"convertToInteractive('df-3f2fe2dd-2aa5-4613-8fdf-0bce99c291a5')\"\n",
              "              title=\"Convert this dataframe to an interactive table.\"\n",
              "              style=\"display:none;\">\n",
              "        \n",
              "  <svg xmlns=\"http://www.w3.org/2000/svg\" height=\"24px\"viewBox=\"0 0 24 24\"\n",
              "       width=\"24px\">\n",
              "    <path d=\"M0 0h24v24H0V0z\" fill=\"none\"/>\n",
              "    <path d=\"M18.56 5.44l.94 2.06.94-2.06 2.06-.94-2.06-.94-.94-2.06-.94 2.06-2.06.94zm-11 1L8.5 8.5l.94-2.06 2.06-.94-2.06-.94L8.5 2.5l-.94 2.06-2.06.94zm10 10l.94 2.06.94-2.06 2.06-.94-2.06-.94-.94-2.06-.94 2.06-2.06.94z\"/><path d=\"M17.41 7.96l-1.37-1.37c-.4-.4-.92-.59-1.43-.59-.52 0-1.04.2-1.43.59L10.3 9.45l-7.72 7.72c-.78.78-.78 2.05 0 2.83L4 21.41c.39.39.9.59 1.41.59.51 0 1.02-.2 1.41-.59l7.78-7.78 2.81-2.81c.8-.78.8-2.07 0-2.86zM5.41 20L4 18.59l7.72-7.72 1.47 1.35L5.41 20z\"/>\n",
              "  </svg>\n",
              "      </button>\n",
              "      \n",
              "  <style>\n",
              "    .colab-df-container {\n",
              "      display:flex;\n",
              "      flex-wrap:wrap;\n",
              "      gap: 12px;\n",
              "    }\n",
              "\n",
              "    .colab-df-convert {\n",
              "      background-color: #E8F0FE;\n",
              "      border: none;\n",
              "      border-radius: 50%;\n",
              "      cursor: pointer;\n",
              "      display: none;\n",
              "      fill: #1967D2;\n",
              "      height: 32px;\n",
              "      padding: 0 0 0 0;\n",
              "      width: 32px;\n",
              "    }\n",
              "\n",
              "    .colab-df-convert:hover {\n",
              "      background-color: #E2EBFA;\n",
              "      box-shadow: 0px 1px 2px rgba(60, 64, 67, 0.3), 0px 1px 3px 1px rgba(60, 64, 67, 0.15);\n",
              "      fill: #174EA6;\n",
              "    }\n",
              "\n",
              "    [theme=dark] .colab-df-convert {\n",
              "      background-color: #3B4455;\n",
              "      fill: #D2E3FC;\n",
              "    }\n",
              "\n",
              "    [theme=dark] .colab-df-convert:hover {\n",
              "      background-color: #434B5C;\n",
              "      box-shadow: 0px 1px 3px 1px rgba(0, 0, 0, 0.15);\n",
              "      filter: drop-shadow(0px 1px 2px rgba(0, 0, 0, 0.3));\n",
              "      fill: #FFFFFF;\n",
              "    }\n",
              "  </style>\n",
              "\n",
              "      <script>\n",
              "        const buttonEl =\n",
              "          document.querySelector('#df-3f2fe2dd-2aa5-4613-8fdf-0bce99c291a5 button.colab-df-convert');\n",
              "        buttonEl.style.display =\n",
              "          google.colab.kernel.accessAllowed ? 'block' : 'none';\n",
              "\n",
              "        async function convertToInteractive(key) {\n",
              "          const element = document.querySelector('#df-3f2fe2dd-2aa5-4613-8fdf-0bce99c291a5');\n",
              "          const dataTable =\n",
              "            await google.colab.kernel.invokeFunction('convertToInteractive',\n",
              "                                                     [key], {});\n",
              "          if (!dataTable) return;\n",
              "\n",
              "          const docLinkHtml = 'Like what you see? Visit the ' +\n",
              "            '<a target=\"_blank\" href=https://colab.research.google.com/notebooks/data_table.ipynb>data table notebook</a>'\n",
              "            + ' to learn more about interactive tables.';\n",
              "          element.innerHTML = '';\n",
              "          dataTable['output_type'] = 'display_data';\n",
              "          await google.colab.output.renderOutput(dataTable, element);\n",
              "          const docLink = document.createElement('div');\n",
              "          docLink.innerHTML = docLinkHtml;\n",
              "          element.appendChild(docLink);\n",
              "        }\n",
              "      </script>\n",
              "    </div>\n",
              "  </div>\n",
              "  "
            ]
          },
          "metadata": {},
          "execution_count": 156
        }
      ],
      "source": [
        "minimo_cero.mode()"
      ]
    },
    {
      "cell_type": "code",
      "execution_count": null,
      "metadata": {
        "id": "50blNbwKN05_"
      },
      "outputs": [],
      "source": [
        "#reemplazamos los valores cero por la moda\n",
        "\n",
        "for x in minimo_cero.columns:\n",
        "  minimo_cero[x] = minimo_cero[x].replace([0],minimo_cero[x].mode())"
      ]
    },
    {
      "cell_type": "code",
      "execution_count": null,
      "metadata": {
        "colab": {
          "base_uri": "https://localhost:8080/",
          "height": 364
        },
        "id": "WVQH0nfJPRDZ",
        "outputId": "9277f061-6513-4a04-a34a-af6d608d391c"
      },
      "outputs": [
        {
          "output_type": "execute_result",
          "data": {
            "text/plain": [
              "          NRO_HOGAR           IV9          IV10          IV11         II4_1  \\\n",
              "count  13001.000000  13001.000000  13001.000000  13001.000000  13001.000000   \n",
              "mean       1.098608      1.033228      1.044612      1.254519      1.111684   \n",
              "std        1.766082      0.179668      0.213780      0.551418      0.314989   \n",
              "min        1.000000      1.000000      1.000000      1.000000      1.000000   \n",
              "25%        1.000000      1.000000      1.000000      1.000000      1.000000   \n",
              "50%        1.000000      1.000000      1.000000      1.000000      1.000000   \n",
              "75%        1.000000      1.000000      1.000000      1.000000      1.000000   \n",
              "max       71.000000      3.000000      3.000000      4.000000      2.000000   \n",
              "\n",
              "              II4_2         II4_3           II5           II6           II7  \\\n",
              "count  13001.000000  13001.000000  13001.000000  13001.000000  13001.000000   \n",
              "mean       1.557572      1.693177      1.995154      1.990078      2.002231   \n",
              "std        0.496693      0.461193      0.069445      0.099119      1.630407   \n",
              "min        1.000000      1.000000      1.000000      1.000000      1.000000   \n",
              "25%        1.000000      1.000000      2.000000      2.000000      1.000000   \n",
              "50%        2.000000      2.000000      2.000000      2.000000      1.000000   \n",
              "75%        2.000000      2.000000      2.000000      2.000000      3.000000   \n",
              "max        2.000000      2.000000      2.000000      2.000000      9.000000   \n",
              "\n",
              "                II8           II9  \n",
              "count  13001.000000  13001.000000  \n",
              "mean       1.403431      1.046304  \n",
              "std        0.548775      0.290639  \n",
              "min        1.000000      1.000000  \n",
              "25%        1.000000      1.000000  \n",
              "50%        1.000000      1.000000  \n",
              "75%        2.000000      1.000000  \n",
              "max        4.000000      4.000000  "
            ],
            "text/html": [
              "\n",
              "  <div id=\"df-3215e0b2-5fa3-4612-8238-604c13351d81\">\n",
              "    <div class=\"colab-df-container\">\n",
              "      <div>\n",
              "<style scoped>\n",
              "    .dataframe tbody tr th:only-of-type {\n",
              "        vertical-align: middle;\n",
              "    }\n",
              "\n",
              "    .dataframe tbody tr th {\n",
              "        vertical-align: top;\n",
              "    }\n",
              "\n",
              "    .dataframe thead th {\n",
              "        text-align: right;\n",
              "    }\n",
              "</style>\n",
              "<table border=\"1\" class=\"dataframe\">\n",
              "  <thead>\n",
              "    <tr style=\"text-align: right;\">\n",
              "      <th></th>\n",
              "      <th>NRO_HOGAR</th>\n",
              "      <th>IV9</th>\n",
              "      <th>IV10</th>\n",
              "      <th>IV11</th>\n",
              "      <th>II4_1</th>\n",
              "      <th>II4_2</th>\n",
              "      <th>II4_3</th>\n",
              "      <th>II5</th>\n",
              "      <th>II6</th>\n",
              "      <th>II7</th>\n",
              "      <th>II8</th>\n",
              "      <th>II9</th>\n",
              "    </tr>\n",
              "  </thead>\n",
              "  <tbody>\n",
              "    <tr>\n",
              "      <th>count</th>\n",
              "      <td>13001.000000</td>\n",
              "      <td>13001.000000</td>\n",
              "      <td>13001.000000</td>\n",
              "      <td>13001.000000</td>\n",
              "      <td>13001.000000</td>\n",
              "      <td>13001.000000</td>\n",
              "      <td>13001.000000</td>\n",
              "      <td>13001.000000</td>\n",
              "      <td>13001.000000</td>\n",
              "      <td>13001.000000</td>\n",
              "      <td>13001.000000</td>\n",
              "      <td>13001.000000</td>\n",
              "    </tr>\n",
              "    <tr>\n",
              "      <th>mean</th>\n",
              "      <td>1.098608</td>\n",
              "      <td>1.033228</td>\n",
              "      <td>1.044612</td>\n",
              "      <td>1.254519</td>\n",
              "      <td>1.111684</td>\n",
              "      <td>1.557572</td>\n",
              "      <td>1.693177</td>\n",
              "      <td>1.995154</td>\n",
              "      <td>1.990078</td>\n",
              "      <td>2.002231</td>\n",
              "      <td>1.403431</td>\n",
              "      <td>1.046304</td>\n",
              "    </tr>\n",
              "    <tr>\n",
              "      <th>std</th>\n",
              "      <td>1.766082</td>\n",
              "      <td>0.179668</td>\n",
              "      <td>0.213780</td>\n",
              "      <td>0.551418</td>\n",
              "      <td>0.314989</td>\n",
              "      <td>0.496693</td>\n",
              "      <td>0.461193</td>\n",
              "      <td>0.069445</td>\n",
              "      <td>0.099119</td>\n",
              "      <td>1.630407</td>\n",
              "      <td>0.548775</td>\n",
              "      <td>0.290639</td>\n",
              "    </tr>\n",
              "    <tr>\n",
              "      <th>min</th>\n",
              "      <td>1.000000</td>\n",
              "      <td>1.000000</td>\n",
              "      <td>1.000000</td>\n",
              "      <td>1.000000</td>\n",
              "      <td>1.000000</td>\n",
              "      <td>1.000000</td>\n",
              "      <td>1.000000</td>\n",
              "      <td>1.000000</td>\n",
              "      <td>1.000000</td>\n",
              "      <td>1.000000</td>\n",
              "      <td>1.000000</td>\n",
              "      <td>1.000000</td>\n",
              "    </tr>\n",
              "    <tr>\n",
              "      <th>25%</th>\n",
              "      <td>1.000000</td>\n",
              "      <td>1.000000</td>\n",
              "      <td>1.000000</td>\n",
              "      <td>1.000000</td>\n",
              "      <td>1.000000</td>\n",
              "      <td>1.000000</td>\n",
              "      <td>1.000000</td>\n",
              "      <td>2.000000</td>\n",
              "      <td>2.000000</td>\n",
              "      <td>1.000000</td>\n",
              "      <td>1.000000</td>\n",
              "      <td>1.000000</td>\n",
              "    </tr>\n",
              "    <tr>\n",
              "      <th>50%</th>\n",
              "      <td>1.000000</td>\n",
              "      <td>1.000000</td>\n",
              "      <td>1.000000</td>\n",
              "      <td>1.000000</td>\n",
              "      <td>1.000000</td>\n",
              "      <td>2.000000</td>\n",
              "      <td>2.000000</td>\n",
              "      <td>2.000000</td>\n",
              "      <td>2.000000</td>\n",
              "      <td>1.000000</td>\n",
              "      <td>1.000000</td>\n",
              "      <td>1.000000</td>\n",
              "    </tr>\n",
              "    <tr>\n",
              "      <th>75%</th>\n",
              "      <td>1.000000</td>\n",
              "      <td>1.000000</td>\n",
              "      <td>1.000000</td>\n",
              "      <td>1.000000</td>\n",
              "      <td>1.000000</td>\n",
              "      <td>2.000000</td>\n",
              "      <td>2.000000</td>\n",
              "      <td>2.000000</td>\n",
              "      <td>2.000000</td>\n",
              "      <td>3.000000</td>\n",
              "      <td>2.000000</td>\n",
              "      <td>1.000000</td>\n",
              "    </tr>\n",
              "    <tr>\n",
              "      <th>max</th>\n",
              "      <td>71.000000</td>\n",
              "      <td>3.000000</td>\n",
              "      <td>3.000000</td>\n",
              "      <td>4.000000</td>\n",
              "      <td>2.000000</td>\n",
              "      <td>2.000000</td>\n",
              "      <td>2.000000</td>\n",
              "      <td>2.000000</td>\n",
              "      <td>2.000000</td>\n",
              "      <td>9.000000</td>\n",
              "      <td>4.000000</td>\n",
              "      <td>4.000000</td>\n",
              "    </tr>\n",
              "  </tbody>\n",
              "</table>\n",
              "</div>\n",
              "      <button class=\"colab-df-convert\" onclick=\"convertToInteractive('df-3215e0b2-5fa3-4612-8238-604c13351d81')\"\n",
              "              title=\"Convert this dataframe to an interactive table.\"\n",
              "              style=\"display:none;\">\n",
              "        \n",
              "  <svg xmlns=\"http://www.w3.org/2000/svg\" height=\"24px\"viewBox=\"0 0 24 24\"\n",
              "       width=\"24px\">\n",
              "    <path d=\"M0 0h24v24H0V0z\" fill=\"none\"/>\n",
              "    <path d=\"M18.56 5.44l.94 2.06.94-2.06 2.06-.94-2.06-.94-.94-2.06-.94 2.06-2.06.94zm-11 1L8.5 8.5l.94-2.06 2.06-.94-2.06-.94L8.5 2.5l-.94 2.06-2.06.94zm10 10l.94 2.06.94-2.06 2.06-.94-2.06-.94-.94-2.06-.94 2.06-2.06.94z\"/><path d=\"M17.41 7.96l-1.37-1.37c-.4-.4-.92-.59-1.43-.59-.52 0-1.04.2-1.43.59L10.3 9.45l-7.72 7.72c-.78.78-.78 2.05 0 2.83L4 21.41c.39.39.9.59 1.41.59.51 0 1.02-.2 1.41-.59l7.78-7.78 2.81-2.81c.8-.78.8-2.07 0-2.86zM5.41 20L4 18.59l7.72-7.72 1.47 1.35L5.41 20z\"/>\n",
              "  </svg>\n",
              "      </button>\n",
              "      \n",
              "  <style>\n",
              "    .colab-df-container {\n",
              "      display:flex;\n",
              "      flex-wrap:wrap;\n",
              "      gap: 12px;\n",
              "    }\n",
              "\n",
              "    .colab-df-convert {\n",
              "      background-color: #E8F0FE;\n",
              "      border: none;\n",
              "      border-radius: 50%;\n",
              "      cursor: pointer;\n",
              "      display: none;\n",
              "      fill: #1967D2;\n",
              "      height: 32px;\n",
              "      padding: 0 0 0 0;\n",
              "      width: 32px;\n",
              "    }\n",
              "\n",
              "    .colab-df-convert:hover {\n",
              "      background-color: #E2EBFA;\n",
              "      box-shadow: 0px 1px 2px rgba(60, 64, 67, 0.3), 0px 1px 3px 1px rgba(60, 64, 67, 0.15);\n",
              "      fill: #174EA6;\n",
              "    }\n",
              "\n",
              "    [theme=dark] .colab-df-convert {\n",
              "      background-color: #3B4455;\n",
              "      fill: #D2E3FC;\n",
              "    }\n",
              "\n",
              "    [theme=dark] .colab-df-convert:hover {\n",
              "      background-color: #434B5C;\n",
              "      box-shadow: 0px 1px 3px 1px rgba(0, 0, 0, 0.15);\n",
              "      filter: drop-shadow(0px 1px 2px rgba(0, 0, 0, 0.3));\n",
              "      fill: #FFFFFF;\n",
              "    }\n",
              "  </style>\n",
              "\n",
              "      <script>\n",
              "        const buttonEl =\n",
              "          document.querySelector('#df-3215e0b2-5fa3-4612-8238-604c13351d81 button.colab-df-convert');\n",
              "        buttonEl.style.display =\n",
              "          google.colab.kernel.accessAllowed ? 'block' : 'none';\n",
              "\n",
              "        async function convertToInteractive(key) {\n",
              "          const element = document.querySelector('#df-3215e0b2-5fa3-4612-8238-604c13351d81');\n",
              "          const dataTable =\n",
              "            await google.colab.kernel.invokeFunction('convertToInteractive',\n",
              "                                                     [key], {});\n",
              "          if (!dataTable) return;\n",
              "\n",
              "          const docLinkHtml = 'Like what you see? Visit the ' +\n",
              "            '<a target=\"_blank\" href=https://colab.research.google.com/notebooks/data_table.ipynb>data table notebook</a>'\n",
              "            + ' to learn more about interactive tables.';\n",
              "          element.innerHTML = '';\n",
              "          dataTable['output_type'] = 'display_data';\n",
              "          await google.colab.output.renderOutput(dataTable, element);\n",
              "          const docLink = document.createElement('div');\n",
              "          docLink.innerHTML = docLinkHtml;\n",
              "          element.appendChild(docLink);\n",
              "        }\n",
              "      </script>\n",
              "    </div>\n",
              "  </div>\n",
              "  "
            ]
          },
          "metadata": {},
          "execution_count": 158
        }
      ],
      "source": [
        "minimo_cero.describe()"
      ]
    },
    {
      "cell_type": "code",
      "execution_count": null,
      "metadata": {
        "id": "zicm_5AWRw4G"
      },
      "outputs": [],
      "source": [
        "#borramos las columnas que corregimos del dataset\n",
        "\n",
        "df_dataset2 = df_dataset2.drop(['IV9','IV10','IV11','II4_1','II4_2','II4_3','II5','II6','II7','II8','II9'], axis=1)"
      ]
    },
    {
      "cell_type": "code",
      "execution_count": null,
      "metadata": {
        "id": "P7dnHqICSpyG"
      },
      "outputs": [],
      "source": [
        "#unimos el dataset con las columnas corregidas, por CODUSU y NRO HOGAR\n",
        "\n",
        "df_dataset_corregido = pd.merge(df_dataset2, minimo_cero, on=['CODUSU','NRO_HOGAR'])"
      ]
    },
    {
      "cell_type": "code",
      "execution_count": null,
      "metadata": {
        "colab": {
          "base_uri": "https://localhost:8080/",
          "height": 270
        },
        "id": "tkTyML0DSwfW",
        "outputId": "2d9c232f-4556-46b7-cf15-5360ce14479e"
      },
      "outputs": [
        {
          "output_type": "execute_result",
          "data": {
            "text/plain": [
              "                          CODUSU  NRO_HOGAR  AGLOMERADO  IV1  IV2  IV3  IV4  \\\n",
              "0  TQRMNOSPYHKOLQCDEGNFJ00789611          1          17    1    3    1    4   \n",
              "1  TQRMNOSVUHLMKNCDEOJAH00720329          1          93    1    4    1    4   \n",
              "2  TQRMNOSQWHJOKNCDEOJAH00794457          1          93    1    3    1    3   \n",
              "3  TQRMNOQVVHJLKOCDEOJAH00794458          1          93    1    5    1    2   \n",
              "4  TQRMNOQVSHKMKPCDEOJAH00793041          1          93    1    3    1    4   \n",
              "\n",
              "   IV5  IV6  IV7  IV8  IV12_1  IV12_2  IV12_3  II1  II2  II3  II3_1  II5_1  \\\n",
              "0    1    1    1    1       2       2       2    3    2    2      0      0   \n",
              "1    1    1    1    1       2       2       2    4    1    2      0      0   \n",
              "2    1    1    1    1       2       2       2    3    2    2      0      0   \n",
              "3    1    1    1    1       2       2       2    5    2    2      0      0   \n",
              "4    1    1    1    1       2       2       2    3    3    2      0      0   \n",
              "\n",
              "   II6_1  Ingresos_Trabajo  Ingresos_Jub_Pen  Ingresos_Subs_AyudaScial  \\\n",
              "0      0                 1                 2                         2   \n",
              "1      0                 2                 1                         2   \n",
              "2      0                 1                 2                         2   \n",
              "3      0                 1                 2                         2   \n",
              "4      0                 1                 2                         2   \n",
              "\n",
              "   Ingresos_PrestConocidos  Ingresos_Fiado_Cuotas  IX_TOT  IX_MEN10  \\\n",
              "0                        1                      2       4         1   \n",
              "1                        2                      1       1         0   \n",
              "2                        2                      2       3         0   \n",
              "3                        2                      1       2         0   \n",
              "4                        2                      2       4         0   \n",
              "\n",
              "   IX_MAYEQ10     ITF       IPCF  VII1_1  VII1_2  VII2_1  VII2_2  VII2_3  \\\n",
              "0           3  400000  100000.00       1       2      98       0       0   \n",
              "1           1   92000   92000.00       1       0      98       0       0   \n",
              "2           3   50000   16666.67       1       0      96       0       0   \n",
              "3           2   90000   45000.00       1       0      98       0       0   \n",
              "4           4   80000   20000.00       2       0      98       0       0   \n",
              "\n",
              "   VII2_4  parentesco  genero  edad  cob_medica  NIVEL_ED  CAT_OCUP  CAT_INAC  \\\n",
              "0       0           1       1    46           4         3         2         0   \n",
              "1       0           1       2    76           1         3         9         1   \n",
              "2       0           1       2    44           1         6         3         0   \n",
              "3       0           1       2    38           1         4         3         0   \n",
              "4       0           1       1    45           4         3         2         0   \n",
              "\n",
              "   AE_ctrol_ind_sum  adulto_equivalente  pobreza  otrasFuentesIngresos  IV9  \\\n",
              "0              3.15           126984.13        0                     2    1   \n",
              "1              0.63           146031.75        0                     1    1   \n",
              "2              2.47            20242.91        1                     2    1   \n",
              "3              1.73            52023.12        0                     2    1   \n",
              "4              3.55            22535.21        1                     2    1   \n",
              "\n",
              "   IV10  IV11  II4_1  II4_2  II4_3  II5  II6  II7  II8  II9  \n",
              "0     1     1      2      2      2    2    2    9    1    1  \n",
              "1     1     1      1      2      2    2    2    1    1    1  \n",
              "2     1     1      1      1      2    2    2    1    1    1  \n",
              "3     1     1      1      2      2    2    2    4    1    1  \n",
              "4     1     1      1      2      2    2    2    3    1    1  "
            ],
            "text/html": [
              "\n",
              "  <div id=\"df-3364294e-6663-47a4-822c-01fdfba330e3\">\n",
              "    <div class=\"colab-df-container\">\n",
              "      <div>\n",
              "<style scoped>\n",
              "    .dataframe tbody tr th:only-of-type {\n",
              "        vertical-align: middle;\n",
              "    }\n",
              "\n",
              "    .dataframe tbody tr th {\n",
              "        vertical-align: top;\n",
              "    }\n",
              "\n",
              "    .dataframe thead th {\n",
              "        text-align: right;\n",
              "    }\n",
              "</style>\n",
              "<table border=\"1\" class=\"dataframe\">\n",
              "  <thead>\n",
              "    <tr style=\"text-align: right;\">\n",
              "      <th></th>\n",
              "      <th>CODUSU</th>\n",
              "      <th>NRO_HOGAR</th>\n",
              "      <th>AGLOMERADO</th>\n",
              "      <th>IV1</th>\n",
              "      <th>IV2</th>\n",
              "      <th>IV3</th>\n",
              "      <th>IV4</th>\n",
              "      <th>IV5</th>\n",
              "      <th>IV6</th>\n",
              "      <th>IV7</th>\n",
              "      <th>IV8</th>\n",
              "      <th>IV12_1</th>\n",
              "      <th>IV12_2</th>\n",
              "      <th>IV12_3</th>\n",
              "      <th>II1</th>\n",
              "      <th>II2</th>\n",
              "      <th>II3</th>\n",
              "      <th>II3_1</th>\n",
              "      <th>II5_1</th>\n",
              "      <th>II6_1</th>\n",
              "      <th>Ingresos_Trabajo</th>\n",
              "      <th>Ingresos_Jub_Pen</th>\n",
              "      <th>Ingresos_Subs_AyudaScial</th>\n",
              "      <th>Ingresos_PrestConocidos</th>\n",
              "      <th>Ingresos_Fiado_Cuotas</th>\n",
              "      <th>IX_TOT</th>\n",
              "      <th>IX_MEN10</th>\n",
              "      <th>IX_MAYEQ10</th>\n",
              "      <th>ITF</th>\n",
              "      <th>IPCF</th>\n",
              "      <th>VII1_1</th>\n",
              "      <th>VII1_2</th>\n",
              "      <th>VII2_1</th>\n",
              "      <th>VII2_2</th>\n",
              "      <th>VII2_3</th>\n",
              "      <th>VII2_4</th>\n",
              "      <th>parentesco</th>\n",
              "      <th>genero</th>\n",
              "      <th>edad</th>\n",
              "      <th>cob_medica</th>\n",
              "      <th>NIVEL_ED</th>\n",
              "      <th>CAT_OCUP</th>\n",
              "      <th>CAT_INAC</th>\n",
              "      <th>AE_ctrol_ind_sum</th>\n",
              "      <th>adulto_equivalente</th>\n",
              "      <th>pobreza</th>\n",
              "      <th>otrasFuentesIngresos</th>\n",
              "      <th>IV9</th>\n",
              "      <th>IV10</th>\n",
              "      <th>IV11</th>\n",
              "      <th>II4_1</th>\n",
              "      <th>II4_2</th>\n",
              "      <th>II4_3</th>\n",
              "      <th>II5</th>\n",
              "      <th>II6</th>\n",
              "      <th>II7</th>\n",
              "      <th>II8</th>\n",
              "      <th>II9</th>\n",
              "    </tr>\n",
              "  </thead>\n",
              "  <tbody>\n",
              "    <tr>\n",
              "      <th>0</th>\n",
              "      <td>TQRMNOSPYHKOLQCDEGNFJ00789611</td>\n",
              "      <td>1</td>\n",
              "      <td>17</td>\n",
              "      <td>1</td>\n",
              "      <td>3</td>\n",
              "      <td>1</td>\n",
              "      <td>4</td>\n",
              "      <td>1</td>\n",
              "      <td>1</td>\n",
              "      <td>1</td>\n",
              "      <td>1</td>\n",
              "      <td>2</td>\n",
              "      <td>2</td>\n",
              "      <td>2</td>\n",
              "      <td>3</td>\n",
              "      <td>2</td>\n",
              "      <td>2</td>\n",
              "      <td>0</td>\n",
              "      <td>0</td>\n",
              "      <td>0</td>\n",
              "      <td>1</td>\n",
              "      <td>2</td>\n",
              "      <td>2</td>\n",
              "      <td>1</td>\n",
              "      <td>2</td>\n",
              "      <td>4</td>\n",
              "      <td>1</td>\n",
              "      <td>3</td>\n",
              "      <td>400000</td>\n",
              "      <td>100000.00</td>\n",
              "      <td>1</td>\n",
              "      <td>2</td>\n",
              "      <td>98</td>\n",
              "      <td>0</td>\n",
              "      <td>0</td>\n",
              "      <td>0</td>\n",
              "      <td>1</td>\n",
              "      <td>1</td>\n",
              "      <td>46</td>\n",
              "      <td>4</td>\n",
              "      <td>3</td>\n",
              "      <td>2</td>\n",
              "      <td>0</td>\n",
              "      <td>3.15</td>\n",
              "      <td>126984.13</td>\n",
              "      <td>0</td>\n",
              "      <td>2</td>\n",
              "      <td>1</td>\n",
              "      <td>1</td>\n",
              "      <td>1</td>\n",
              "      <td>2</td>\n",
              "      <td>2</td>\n",
              "      <td>2</td>\n",
              "      <td>2</td>\n",
              "      <td>2</td>\n",
              "      <td>9</td>\n",
              "      <td>1</td>\n",
              "      <td>1</td>\n",
              "    </tr>\n",
              "    <tr>\n",
              "      <th>1</th>\n",
              "      <td>TQRMNOSVUHLMKNCDEOJAH00720329</td>\n",
              "      <td>1</td>\n",
              "      <td>93</td>\n",
              "      <td>1</td>\n",
              "      <td>4</td>\n",
              "      <td>1</td>\n",
              "      <td>4</td>\n",
              "      <td>1</td>\n",
              "      <td>1</td>\n",
              "      <td>1</td>\n",
              "      <td>1</td>\n",
              "      <td>2</td>\n",
              "      <td>2</td>\n",
              "      <td>2</td>\n",
              "      <td>4</td>\n",
              "      <td>1</td>\n",
              "      <td>2</td>\n",
              "      <td>0</td>\n",
              "      <td>0</td>\n",
              "      <td>0</td>\n",
              "      <td>2</td>\n",
              "      <td>1</td>\n",
              "      <td>2</td>\n",
              "      <td>2</td>\n",
              "      <td>1</td>\n",
              "      <td>1</td>\n",
              "      <td>0</td>\n",
              "      <td>1</td>\n",
              "      <td>92000</td>\n",
              "      <td>92000.00</td>\n",
              "      <td>1</td>\n",
              "      <td>0</td>\n",
              "      <td>98</td>\n",
              "      <td>0</td>\n",
              "      <td>0</td>\n",
              "      <td>0</td>\n",
              "      <td>1</td>\n",
              "      <td>2</td>\n",
              "      <td>76</td>\n",
              "      <td>1</td>\n",
              "      <td>3</td>\n",
              "      <td>9</td>\n",
              "      <td>1</td>\n",
              "      <td>0.63</td>\n",
              "      <td>146031.75</td>\n",
              "      <td>0</td>\n",
              "      <td>1</td>\n",
              "      <td>1</td>\n",
              "      <td>1</td>\n",
              "      <td>1</td>\n",
              "      <td>1</td>\n",
              "      <td>2</td>\n",
              "      <td>2</td>\n",
              "      <td>2</td>\n",
              "      <td>2</td>\n",
              "      <td>1</td>\n",
              "      <td>1</td>\n",
              "      <td>1</td>\n",
              "    </tr>\n",
              "    <tr>\n",
              "      <th>2</th>\n",
              "      <td>TQRMNOSQWHJOKNCDEOJAH00794457</td>\n",
              "      <td>1</td>\n",
              "      <td>93</td>\n",
              "      <td>1</td>\n",
              "      <td>3</td>\n",
              "      <td>1</td>\n",
              "      <td>3</td>\n",
              "      <td>1</td>\n",
              "      <td>1</td>\n",
              "      <td>1</td>\n",
              "      <td>1</td>\n",
              "      <td>2</td>\n",
              "      <td>2</td>\n",
              "      <td>2</td>\n",
              "      <td>3</td>\n",
              "      <td>2</td>\n",
              "      <td>2</td>\n",
              "      <td>0</td>\n",
              "      <td>0</td>\n",
              "      <td>0</td>\n",
              "      <td>1</td>\n",
              "      <td>2</td>\n",
              "      <td>2</td>\n",
              "      <td>2</td>\n",
              "      <td>2</td>\n",
              "      <td>3</td>\n",
              "      <td>0</td>\n",
              "      <td>3</td>\n",
              "      <td>50000</td>\n",
              "      <td>16666.67</td>\n",
              "      <td>1</td>\n",
              "      <td>0</td>\n",
              "      <td>96</td>\n",
              "      <td>0</td>\n",
              "      <td>0</td>\n",
              "      <td>0</td>\n",
              "      <td>1</td>\n",
              "      <td>2</td>\n",
              "      <td>44</td>\n",
              "      <td>1</td>\n",
              "      <td>6</td>\n",
              "      <td>3</td>\n",
              "      <td>0</td>\n",
              "      <td>2.47</td>\n",
              "      <td>20242.91</td>\n",
              "      <td>1</td>\n",
              "      <td>2</td>\n",
              "      <td>1</td>\n",
              "      <td>1</td>\n",
              "      <td>1</td>\n",
              "      <td>1</td>\n",
              "      <td>1</td>\n",
              "      <td>2</td>\n",
              "      <td>2</td>\n",
              "      <td>2</td>\n",
              "      <td>1</td>\n",
              "      <td>1</td>\n",
              "      <td>1</td>\n",
              "    </tr>\n",
              "    <tr>\n",
              "      <th>3</th>\n",
              "      <td>TQRMNOQVVHJLKOCDEOJAH00794458</td>\n",
              "      <td>1</td>\n",
              "      <td>93</td>\n",
              "      <td>1</td>\n",
              "      <td>5</td>\n",
              "      <td>1</td>\n",
              "      <td>2</td>\n",
              "      <td>1</td>\n",
              "      <td>1</td>\n",
              "      <td>1</td>\n",
              "      <td>1</td>\n",
              "      <td>2</td>\n",
              "      <td>2</td>\n",
              "      <td>2</td>\n",
              "      <td>5</td>\n",
              "      <td>2</td>\n",
              "      <td>2</td>\n",
              "      <td>0</td>\n",
              "      <td>0</td>\n",
              "      <td>0</td>\n",
              "      <td>1</td>\n",
              "      <td>2</td>\n",
              "      <td>2</td>\n",
              "      <td>2</td>\n",
              "      <td>1</td>\n",
              "      <td>2</td>\n",
              "      <td>0</td>\n",
              "      <td>2</td>\n",
              "      <td>90000</td>\n",
              "      <td>45000.00</td>\n",
              "      <td>1</td>\n",
              "      <td>0</td>\n",
              "      <td>98</td>\n",
              "      <td>0</td>\n",
              "      <td>0</td>\n",
              "      <td>0</td>\n",
              "      <td>1</td>\n",
              "      <td>2</td>\n",
              "      <td>38</td>\n",
              "      <td>1</td>\n",
              "      <td>4</td>\n",
              "      <td>3</td>\n",
              "      <td>0</td>\n",
              "      <td>1.73</td>\n",
              "      <td>52023.12</td>\n",
              "      <td>0</td>\n",
              "      <td>2</td>\n",
              "      <td>1</td>\n",
              "      <td>1</td>\n",
              "      <td>1</td>\n",
              "      <td>1</td>\n",
              "      <td>2</td>\n",
              "      <td>2</td>\n",
              "      <td>2</td>\n",
              "      <td>2</td>\n",
              "      <td>4</td>\n",
              "      <td>1</td>\n",
              "      <td>1</td>\n",
              "    </tr>\n",
              "    <tr>\n",
              "      <th>4</th>\n",
              "      <td>TQRMNOQVSHKMKPCDEOJAH00793041</td>\n",
              "      <td>1</td>\n",
              "      <td>93</td>\n",
              "      <td>1</td>\n",
              "      <td>3</td>\n",
              "      <td>1</td>\n",
              "      <td>4</td>\n",
              "      <td>1</td>\n",
              "      <td>1</td>\n",
              "      <td>1</td>\n",
              "      <td>1</td>\n",
              "      <td>2</td>\n",
              "      <td>2</td>\n",
              "      <td>2</td>\n",
              "      <td>3</td>\n",
              "      <td>3</td>\n",
              "      <td>2</td>\n",
              "      <td>0</td>\n",
              "      <td>0</td>\n",
              "      <td>0</td>\n",
              "      <td>1</td>\n",
              "      <td>2</td>\n",
              "      <td>2</td>\n",
              "      <td>2</td>\n",
              "      <td>2</td>\n",
              "      <td>4</td>\n",
              "      <td>0</td>\n",
              "      <td>4</td>\n",
              "      <td>80000</td>\n",
              "      <td>20000.00</td>\n",
              "      <td>2</td>\n",
              "      <td>0</td>\n",
              "      <td>98</td>\n",
              "      <td>0</td>\n",
              "      <td>0</td>\n",
              "      <td>0</td>\n",
              "      <td>1</td>\n",
              "      <td>1</td>\n",
              "      <td>45</td>\n",
              "      <td>4</td>\n",
              "      <td>3</td>\n",
              "      <td>2</td>\n",
              "      <td>0</td>\n",
              "      <td>3.55</td>\n",
              "      <td>22535.21</td>\n",
              "      <td>1</td>\n",
              "      <td>2</td>\n",
              "      <td>1</td>\n",
              "      <td>1</td>\n",
              "      <td>1</td>\n",
              "      <td>1</td>\n",
              "      <td>2</td>\n",
              "      <td>2</td>\n",
              "      <td>2</td>\n",
              "      <td>2</td>\n",
              "      <td>3</td>\n",
              "      <td>1</td>\n",
              "      <td>1</td>\n",
              "    </tr>\n",
              "  </tbody>\n",
              "</table>\n",
              "</div>\n",
              "      <button class=\"colab-df-convert\" onclick=\"convertToInteractive('df-3364294e-6663-47a4-822c-01fdfba330e3')\"\n",
              "              title=\"Convert this dataframe to an interactive table.\"\n",
              "              style=\"display:none;\">\n",
              "        \n",
              "  <svg xmlns=\"http://www.w3.org/2000/svg\" height=\"24px\"viewBox=\"0 0 24 24\"\n",
              "       width=\"24px\">\n",
              "    <path d=\"M0 0h24v24H0V0z\" fill=\"none\"/>\n",
              "    <path d=\"M18.56 5.44l.94 2.06.94-2.06 2.06-.94-2.06-.94-.94-2.06-.94 2.06-2.06.94zm-11 1L8.5 8.5l.94-2.06 2.06-.94-2.06-.94L8.5 2.5l-.94 2.06-2.06.94zm10 10l.94 2.06.94-2.06 2.06-.94-2.06-.94-.94-2.06-.94 2.06-2.06.94z\"/><path d=\"M17.41 7.96l-1.37-1.37c-.4-.4-.92-.59-1.43-.59-.52 0-1.04.2-1.43.59L10.3 9.45l-7.72 7.72c-.78.78-.78 2.05 0 2.83L4 21.41c.39.39.9.59 1.41.59.51 0 1.02-.2 1.41-.59l7.78-7.78 2.81-2.81c.8-.78.8-2.07 0-2.86zM5.41 20L4 18.59l7.72-7.72 1.47 1.35L5.41 20z\"/>\n",
              "  </svg>\n",
              "      </button>\n",
              "      \n",
              "  <style>\n",
              "    .colab-df-container {\n",
              "      display:flex;\n",
              "      flex-wrap:wrap;\n",
              "      gap: 12px;\n",
              "    }\n",
              "\n",
              "    .colab-df-convert {\n",
              "      background-color: #E8F0FE;\n",
              "      border: none;\n",
              "      border-radius: 50%;\n",
              "      cursor: pointer;\n",
              "      display: none;\n",
              "      fill: #1967D2;\n",
              "      height: 32px;\n",
              "      padding: 0 0 0 0;\n",
              "      width: 32px;\n",
              "    }\n",
              "\n",
              "    .colab-df-convert:hover {\n",
              "      background-color: #E2EBFA;\n",
              "      box-shadow: 0px 1px 2px rgba(60, 64, 67, 0.3), 0px 1px 3px 1px rgba(60, 64, 67, 0.15);\n",
              "      fill: #174EA6;\n",
              "    }\n",
              "\n",
              "    [theme=dark] .colab-df-convert {\n",
              "      background-color: #3B4455;\n",
              "      fill: #D2E3FC;\n",
              "    }\n",
              "\n",
              "    [theme=dark] .colab-df-convert:hover {\n",
              "      background-color: #434B5C;\n",
              "      box-shadow: 0px 1px 3px 1px rgba(0, 0, 0, 0.15);\n",
              "      filter: drop-shadow(0px 1px 2px rgba(0, 0, 0, 0.3));\n",
              "      fill: #FFFFFF;\n",
              "    }\n",
              "  </style>\n",
              "\n",
              "      <script>\n",
              "        const buttonEl =\n",
              "          document.querySelector('#df-3364294e-6663-47a4-822c-01fdfba330e3 button.colab-df-convert');\n",
              "        buttonEl.style.display =\n",
              "          google.colab.kernel.accessAllowed ? 'block' : 'none';\n",
              "\n",
              "        async function convertToInteractive(key) {\n",
              "          const element = document.querySelector('#df-3364294e-6663-47a4-822c-01fdfba330e3');\n",
              "          const dataTable =\n",
              "            await google.colab.kernel.invokeFunction('convertToInteractive',\n",
              "                                                     [key], {});\n",
              "          if (!dataTable) return;\n",
              "\n",
              "          const docLinkHtml = 'Like what you see? Visit the ' +\n",
              "            '<a target=\"_blank\" href=https://colab.research.google.com/notebooks/data_table.ipynb>data table notebook</a>'\n",
              "            + ' to learn more about interactive tables.';\n",
              "          element.innerHTML = '';\n",
              "          dataTable['output_type'] = 'display_data';\n",
              "          await google.colab.output.renderOutput(dataTable, element);\n",
              "          const docLink = document.createElement('div');\n",
              "          docLink.innerHTML = docLinkHtml;\n",
              "          element.appendChild(docLink);\n",
              "        }\n",
              "      </script>\n",
              "    </div>\n",
              "  </div>\n",
              "  "
            ]
          },
          "metadata": {},
          "execution_count": 161
        }
      ],
      "source": [
        "df_dataset_corregido.head()"
      ]
    },
    {
      "cell_type": "code",
      "source": [
        "df_dataset_corregido.shape"
      ],
      "metadata": {
        "colab": {
          "base_uri": "https://localhost:8080/"
        },
        "id": "Xsp8psw3KPoU",
        "outputId": "f9ff8174-c4f6-498d-a600-2fa7e13a4970"
      },
      "execution_count": null,
      "outputs": [
        {
          "output_type": "execute_result",
          "data": {
            "text/plain": [
              "(13001, 58)"
            ]
          },
          "metadata": {},
          "execution_count": 162
        }
      ]
    },
    {
      "cell_type": "code",
      "execution_count": null,
      "metadata": {
        "id": "sOsYwP9VbSd1"
      },
      "outputs": [],
      "source": [
        "df_dataset_corregido.to_csv('dataset_corregido.csv')"
      ]
    }
  ],
  "metadata": {
    "colab": {
      "provenance": [],
      "toc_visible": true,
      "include_colab_link": true
    },
    "kernelspec": {
      "display_name": "Python 3",
      "name": "python3"
    },
    "language_info": {
      "name": "python"
    }
  },
  "nbformat": 4,
  "nbformat_minor": 0
}