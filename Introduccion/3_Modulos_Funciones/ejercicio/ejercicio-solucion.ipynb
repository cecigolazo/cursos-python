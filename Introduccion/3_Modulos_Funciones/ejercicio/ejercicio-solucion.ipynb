{
  "cells": [
    {
      "cell_type": "markdown",
      "metadata": {
        "id": "view-in-github",
        "colab_type": "text"
      },
      "source": [
        "<a href=\"https://colab.research.google.com/github/cecigolazo/cursos-python/blob/master/Introduccion/3_Modulos_Funciones/ejercicio/ejercicio-solucion.ipynb\" target=\"_parent\"><img src=\"https://colab.research.google.com/assets/colab-badge.svg\" alt=\"Open In Colab\"/></a>"
      ]
    },
    {
      "cell_type": "markdown",
      "metadata": {
        "id": "gtJUrYuwqfCP"
      },
      "source": [
        "<a href=\"https://colab.research.google.com/github/institutohumai/cursos-python/blob/master/Introduccion/3_Modulos_Funciones/ejercicio/ejercicio-solucion.ipynb\"> <img src='https://colab.research.google.com/assets/colab-badge.svg' /> </a>\n",
        "<div align=\"center\"> Recordá abrir en una nueva pestaña </div>"
      ]
    },
    {
      "cell_type": "markdown",
      "metadata": {
        "id": "tqMrMyEMqfCW"
      },
      "source": [
        "## Factoriales\n",
        "\n",
        "El factorial de un número natural es la multiplicación de todos los números anteriores hasta llegar a 1. Por ejemplo el factorial de 5 es igual a $5*4*3*2*1$, es decir, 120.\n",
        "\n",
        "Igual que con la serie Fibonacci, hay dos formas de resolver este problema: una con un loop for y la otra utilizando funciones recursivas.  Recuerden que cada función recursiva tiene que tener una condición terminal.\n",
        "En el caso de Fibonacci, la condición terminal es que fibo(1) = 1. \n",
        "\n",
        "En el caso de factorial, la condición terminal será factorial(1) = 1 \n",
        "\n",
        "Escriban ahora las dos versiones posibles de la función factorial(x). "
      ]
    },
    {
      "cell_type": "code",
      "execution_count": 1,
      "metadata": {
        "id": "Fz8Z5N_vqfCY"
      },
      "outputs": [],
      "source": [
        "# Solución recursiva. \n",
        "\n",
        "def factorial(x):\n",
        "    if x == 1:\n",
        "        return 1\n",
        "    else:\n",
        "        return x*factorial(x-1)"
      ]
    },
    {
      "cell_type": "code",
      "source": [
        "%timeit factorial(5)"
      ],
      "metadata": {
        "colab": {
          "base_uri": "https://localhost:8080/"
        },
        "id": "klIZ8ejxqiWn",
        "outputId": "1a80e924-1b98-4c7d-a34f-f17157236647"
      },
      "execution_count": 2,
      "outputs": [
        {
          "output_type": "stream",
          "name": "stdout",
          "text": [
            "849 ns ± 293 ns per loop (mean ± std. dev. of 7 runs, 1000000 loops each)\n"
          ]
        }
      ]
    },
    {
      "cell_type": "code",
      "execution_count": 4,
      "metadata": {
        "id": "JhONIgS2qfCa"
      },
      "outputs": [],
      "source": [
        "# Solución iterativa. \n",
        "\n",
        "def factorial_i(x):\n",
        "    resultado = 1\n",
        "    for i in range(1, x+1):\n",
        "        resultado = resultado * (i)\n",
        "    return resultado"
      ]
    },
    {
      "cell_type": "code",
      "source": [
        "%timeit factorial_i(5)"
      ],
      "metadata": {
        "colab": {
          "base_uri": "https://localhost:8080/"
        },
        "id": "8-3LOZDsq6IF",
        "outputId": "00e0ffa9-2610-4b8e-93c4-2e8c61dbd153"
      },
      "execution_count": 5,
      "outputs": [
        {
          "output_type": "stream",
          "name": "stdout",
          "text": [
            "590 ns ± 19.6 ns per loop (mean ± std. dev. of 7 runs, 1000000 loops each)\n"
          ]
        }
      ]
    },
    {
      "cell_type": "markdown",
      "metadata": {
        "id": "SMmCzK5ZqfCb"
      },
      "source": [
        "Ahora construyan un módulo que se llame \"operaciones\" con cualquiera de las dos versiones de la función y luego invoquen a la función factorial del módulo."
      ]
    },
    {
      "cell_type": "code",
      "execution_count": null,
      "metadata": {
        "id": "-jOVJACmqfCc"
      },
      "outputs": [],
      "source": [
        "# Escriban el archivo operaciones.py\n",
        "with open('operaciones.py', 'w') as out:\n",
        "    out.write(\"\"\"def factorial(x):\n",
        "    resultado = 1\n",
        "    for i in range(1, x+1):\n",
        "        resultado = resultado * (i)\n",
        "    return resultado\"\"\")"
      ]
    },
    {
      "cell_type": "code",
      "execution_count": null,
      "metadata": {
        "id": "vcVkxMR1qfCd"
      },
      "outputs": [],
      "source": [
        "# Importen operaciones\n",
        "import operaciones"
      ]
    },
    {
      "cell_type": "code",
      "execution_count": null,
      "metadata": {
        "id": "GSJ4g0BlqfCe",
        "outputId": "ea97cce7-339c-479b-dd60-0651a526c3af"
      },
      "outputs": [
        {
          "data": {
            "text/plain": [
              "24"
            ]
          },
          "execution_count": 12,
          "metadata": {},
          "output_type": "execute_result"
        }
      ],
      "source": [
        "# Invoquen con cualquier valor a operaciones.factorial()\n",
        "operaciones.factorial(4)"
      ]
    },
    {
      "cell_type": "code",
      "execution_count": null,
      "metadata": {
        "id": "FkOMbE72qfCh"
      },
      "outputs": [],
      "source": [
        ""
      ]
    }
  ],
  "metadata": {
    "kernelspec": {
      "display_name": "conda_python3",
      "language": "python",
      "name": "conda_python3"
    },
    "language_info": {
      "codemirror_mode": {
        "name": "ipython",
        "version": 3
      },
      "file_extension": ".py",
      "mimetype": "text/x-python",
      "name": "python",
      "nbconvert_exporter": "python",
      "pygments_lexer": "ipython3",
      "version": "3.6.10"
    },
    "colab": {
      "name": "ejercicio-solucion.ipynb",
      "provenance": [],
      "include_colab_link": true
    }
  },
  "nbformat": 4,
  "nbformat_minor": 0
}